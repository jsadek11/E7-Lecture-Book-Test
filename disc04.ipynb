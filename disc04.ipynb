{
 "cells": [
  {
   "cell_type": "markdown",
   "id": "f133acb3",
   "metadata": {
    "id": "f133acb3"
   },
   "source": [
    "# E7 Discussion 4: Coding Challenge"
   ]
  },
  {
   "cell_type": "markdown",
   "id": "95b59811",
   "metadata": {
    "id": "95b59811"
   },
   "source": [
    "You are allowed to exchange ideas and work together with your discussion partner. The problems are designed to be challenging so do not feel discouraged if they take some time! The solution will be posted next week."
   ]
  },
  {
   "cell_type": "markdown",
   "id": "f13e4332",
   "metadata": {},
   "source": [
    "## Question 1: Flow Control\n",
    "\n",
    "Modify the lines with `...` in the function bodies so that when calling `f3()`, you get the following exact output. Each `...` must be replaced by exactly one function call. You are not allowed to use `print()` or any other statements—**only function calls**.\n",
    "  \n",
    "**Desired output:**\n",
    "<pre>\n",
    "Eeny\n",
    "Meeny\n",
    "Miny\n",
    "Moe\n",
    "</pre>"
   ]
  },
  {
   "cell_type": "code",
   "execution_count": null,
   "id": "41b1c7c4",
   "metadata": {},
   "outputs": [],
   "source": [
    "def f1():\n",
    "    print(\"Moe\")\n",
    "\n",
    "def f2():\n",
    "    ...\n",
    "    print(\"Meeny\")\n",
    "\n",
    "def f3():\n",
    "    ...\n",
    "    print(\"Miny\")\n",
    "    ...\n",
    "\n",
    "def f4():\n",
    "    print(\"Eeny\")\n",
    "\n",
    "f3()"
   ]
  },
  {
   "cell_type": "markdown",
   "id": "f599d2cb-f030-493e-a668-c1e6c67fd117",
   "metadata": {},
   "source": [
    "## Question 2: Triangle Type\n",
    "\n",
    "Write a function `triangle_type(a, b, c)` that takes three side lengths (`a`, `b`, and `c`) as inputs and returns the type of triangle they form. The function should return:\n",
    "\n",
    "* `'Equilateral'` if all sides are equal.\n",
    "* `'Isosceles'` if exactly two sides are equal.\n",
    "* `'Scalene'` if all sides are different.\n",
    "* `'Not a triangle'` if the sides do not form a valid triangle.\n",
    "\n",
    "**A triangle is valid if the sum of any two sides is greater than the third side.**\n",
    "\n",
    "**Example Test Cases:**\n",
    "```python\n",
    "print(triangle_type(3, 3, 3))  # Expected output: Equilateral\n",
    "print(triangle_type(3, 4, 4))  # Expected output: Isosceles\n",
    "print(triangle_type(3, 4, 5))  # Expected output: Scalene\n",
    "print(triangle_type(1, 1, 3))  # Expected output: Not a triangle\n",
    "```"
   ]
  },
  {
   "cell_type": "code",
   "execution_count": null,
   "id": "307ccc22-c355-4a75-8f05-31dac2dd1244",
   "metadata": {},
   "outputs": [],
   "source": []
  },
  {
   "cell_type": "markdown",
   "id": "7120eea2-04fd-468c-ad15-87f75931af21",
   "metadata": {},
   "source": [
    "## Question 3: 12-Hour Clock Arithmetic\n",
    "\n",
    "Write a function `time_after_hours(hours, am_pm, add_hours)` that calculates the new time on a 12-hour clock after adding a certain number of hours.\n",
    "\n",
    "**Input Parameters:**\n",
    "\n",
    "* `hours`: An integer (1 to 12) representing the current hour on a 12-hour clock.\n",
    "* `am_pm`: A string, either `'AM'` or `'PM'`, representing whether it is morning or afternoon.\n",
    "* `add_hours`: An integer (0 or greater) representing the number of hours to add to the current time.\n",
    "\n",
    "**Output:**\n",
    "* A string representing the time after adding the hours in the format `\"H AM\"` or `\"H PM\"`, where H is the hour on a 12-hour clock (e.g., `\"2 AM\"`).\n",
    "* Make sure to handle the wrap-around of time (e.g., adding hours that push past midnight or noon).\n",
    "\n",
    "**Edge Cases:**\n",
    "* Adding a large number of hours (e.g., 25, 50, etc.) should be handled correctly.\n",
    "* Properly transition between AM and PM.\n",
    "* The input hour will always be valid (1 to 12), but the function must handle cases where add_hours is large enough to result in multiple AM/PM switches.\n",
    "\n",
    "**Example Test Cases:**\n",
    "\n",
    "```python\n",
    "print(time_after_hours(11, 'AM', 2))    # Expected output: \"1 PM\"\n",
    "print(time_after_hours(12, 'PM', 1))    # Expected output: \"1 PM\"\n",
    "print(time_after_hours(3, 'PM', 12))    # Expected output: \"3 AM\"\n",
    "print(time_after_hours(1, 'AM', 25))    # Expected output: \"2 AM\"\n",
    "```"
   ]
  },
  {
   "cell_type": "code",
   "execution_count": null,
   "id": "da4b2c34-3d71-4eef-a713-29c7f72e7ed1",
   "metadata": {},
   "outputs": [],
   "source": []
  }
 ],
 "metadata": {
  "kernelspec": {
   "display_name": "Python 3 (ipykernel)",
   "language": "python",
   "name": "python3"
  },
  "language_info": {
   "codemirror_mode": {
    "name": "ipython",
    "version": 3
   },
   "file_extension": ".py",
   "mimetype": "text/x-python",
   "name": "python",
   "nbconvert_exporter": "python",
   "pygments_lexer": "ipython3",
   "version": "3.11.9"
  }
 },
 "nbformat": 4,
 "nbformat_minor": 5
}
