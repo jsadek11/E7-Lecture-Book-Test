{
 "cells": [
  {
   "cell_type": "markdown",
   "id": "b9646f52",
   "metadata": {},
   "source": [
    "# Introduction to Computer Programming and Numerical Methods\n",
    "\n",
    "> **Mohamad M. Hallal, PhD** <br> Teaching Professor, UC Berkeley\n",
    "\n",
    "[![License](https://img.shields.io/badge/license-CC%20BY--NC--ND%204.0-blue)](https://creativecommons.org/licenses/by-nc-nd/4.0/)\n",
    "***"
   ]
  },
  {
   "cell_type": "markdown",
   "id": "87237015",
   "metadata": {},
   "source": [
    "# Data Structures\n",
    "\n",
    "1. [**Lists**](#s1)\n",
    "2. [**Tuples**](#s2)\n",
    "3. [**Ranges**](#s3)\n",
    "4. [**Strings**](#s4)\n",
    "5. [**Converting Between Types**](#s5)\n",
    "6. [**Summary**](#s6)\n",
    "7. [**Additional Reading**](#s7)\n",
    "\n",
    "***"
   ]
  },
  {
   "cell_type": "markdown",
   "id": "d040e14c",
   "metadata": {},
   "source": [
    "# 0. Motivation \n",
    "\n",
    "We have already encountered some simple Python data types like `int`, `float`, and `bool`. These types represent a single value and cannot be subdivided. Such types are known as **scalar** objects. However, in practice, programs often need to work with collections of values. For example, consider representing daily maximum temperatures over a year. Instead of using 365 individual floats (e.g., `day1 = 63.9`, `day2 = 64.6`, `day3 = 65.0`, ...), we can use a list of floats: `temp = [63.9, 64.6, 65.0, ...]`. This approach is more powerful and efficient, allowing us to perform operations on the entire list using similar syntax to operations on scalar objects. Efficient storage and manipulation of data structures are crucial for scientific and engineering applications.\n",
    "\n",
    "Objects that contain multiple values are called **non-scalar** objects. These objects have an internal structure that can be subdivided (e.g., accessing the first value). Due to their structured nature, they are referred to as **data structures**. Python offers many built-in data structures, such as strings, lists, and tuples, which we will encounter frequently.\n",
    "\n",
    "<br>\n",
    "\n",
    "<center><figure>\n",
    "  <img src=\"https://docs.google.com/drawings/d/e/2PACX-1vQnLOA_5u2UvR6q6UMIrrTvxaJiIuaZXEe7xHCAL3sr2ZLgZjjdRZL4CExTn726oIKIm0xiSsaWW9vt/pub?w=1181&h=389\n",
    "\" style=\"width:70%\">\n",
    "    <figcaption style=\"text-align:center\"><strong> <br> Python data types</strong></figcaption>   \n",
    "</figure></center>\n",
    "\n",
    "**Learning objectives:**\n",
    "\n",
    "* Create `list`, `tuple`, `range`, and `str` data structures and differentiate between them \n",
    "* Access individual elements and slices using indexing and slicing techniques\n",
    "* Discuss the mutability (or immutability) of different data structures and its consequence\n",
    "* Modify elements and slices of data structures\n",
    "* Perform operations on `list`, `tuple`, `range`, and `str` data structures\n",
    "* Use methods to manipulate  `list`, `tuple`, `range`, and `str` data structures\n",
    "* Discuss how methods affect different data structures\n",
    "* Select the optimal data structure for an application"
   ]
  },
  {
   "cell_type": "markdown",
   "id": "63eb7768",
   "metadata": {},
   "source": [
    "# 1. Lists: `[ ]` <a id=\"s1\"></a>\n",
    "\n",
    "A `list` is a versatile data structure used to store an ordered collection of items. Lists can contain items of different types, including `int`, `float`, `str`, and `bool`. They are created using square brackets `[]`, with items separated by commas `,`.\n",
    "\n",
    "**Examples:**\n",
    "\n",
    "```python\n",
    ">>> numeric_list = [1, 2, 3]                           # A list of integers\n",
    ">>> text_list = ['Welcome', 'to', 'ENGIN7!']           # A list of strings\n",
    ">>> mixed_list = ['Welcome', 'to', 'ENGIN', 7, '!']    # A mixed-type list\n",
    "```\n",
    "Lists are fundamental in Python and serve as a powerful tool for storing and manipulating collections of data.\n",
    "\n",
    "<div class=\"alert alert-block alert-info\"> <b>TRY IT!</b> Create a list in Python named <code>grocery</code> with several grocery items followed by the quantity of each item. Check the type of <code>grocery</code>.</div>"
   ]
  },
  {
   "cell_type": "code",
   "execution_count": null,
   "id": "2c604504",
   "metadata": {},
   "outputs": [],
   "source": []
  },
  {
   "cell_type": "markdown",
   "id": "78d85bc2",
   "metadata": {},
   "source": [
    "The object type controls what can be done with the object. For example, lists can be concatenated by adding them together, you can multiply a list by an integer, but you cannot multiply two lists together. Before we introduce the different methods that could be used with lists, it is important to understand their internal structure.\n",
    "\n",
    "## 1.1. Indexing and Slicing\n",
    "\n",
    "Data structures have internal structure, which can be subdivided (e.g., taking the first value). This is known as indexing. We can use indexing to access a single element or a sequence of elements within a data structure.\n",
    "\n",
    "Any data structure, including `list`, has indices to indicate the location of each item. Indexing in Python starts at 0, which means that the first element has index 0, the second element has index 1, and so on.\n",
    "\n",
    "Consider the following list: `mixed_list = ['Welcome', 'to', 'ENGIN', 7, '!']`\n",
    "\n",
    "<br>\n",
    "\n",
    "<center><figure>\n",
    "  <img src=\"https://docs.google.com/drawings/d/e/2PACX-1vSh9Pw2miQGunHt17ildxYM734uXrUYjaratWUZDpo9z9ev3B9gJePa4Vv_1pR6cu4JVcdaMKidREC0/pub?w=806&h=89\n",
    "\" style=\"width:50%\">\n",
    "    <figcaption style=\"text-align:center\"><strong> <br> Indexing elements in a list</strong></figcaption>   \n",
    "</figure></center>\n",
    "\n",
    "Positive indexing starts from `0` and goes up to `n-1` where `n` is the length of the data structure. This allows you to access elements in the list using their position.\n",
    "\n",
    "<div class=\"alert alert-block alert-warning\"> <b>NOTE!</b> The first character has index 0 in Python. MATLAB, however, starts at index 1.</div>\n",
    "\n",
    "### 1.1.1. Single Element Indexing\n",
    "\n",
    "In Python, we can access any value of a list using square brackets and the index of the desired element: `list_name[index]`.\n",
    "\n",
    "<div class=\"alert alert-block alert-info\"> <b>TRY IT!</b> Define <code>mixed_list = ['Welcome', 'to', 'ENGIN', 7, '!']</code> and then print the first element.<br> &emsp;&emsp;&emsp;&ensp; Print the last element in <code>mixed_list</code>.</div>"
   ]
  },
  {
   "cell_type": "code",
   "execution_count": null,
   "id": "bd81a1d3",
   "metadata": {},
   "outputs": [],
   "source": [
    "mixed_list = ['Welcome', 'to', 'ENGIN', 7, '!']\n",
    "\n",
    "# print first element\n",
    "\n",
    "# print last element\n"
   ]
  },
  {
   "cell_type": "markdown",
   "id": "293aef02",
   "metadata": {},
   "source": [
    "<div class=\"alert alert-block alert-warning\"> <b>NOTE!</b> Indices should be integers. If you use <code>list_name[1.]</code>, Python will interpret <code>1.</code> as a float and will raise an <code>IndexError</code>.</div>\n",
    "\n",
    "Python also allows negative indexing to access elements from the end of a data structure. The index `-1` refers to the last element, `-2` refers to the second to last element, and so on. Negative indexing starts from `-1` and goes up to `-n` where `n` is the length of the data structure.\n",
    "\n",
    "<br>\n",
    "\n",
    "<center><figure>\n",
    "  <img src=\"https://docs.google.com/drawings/d/e/2PACX-1vSa2alJxSF5L9KcnHtBL6KgzcdLt97Fqr6jyl_glmfTI9SVIgZhBZP376Nte8POV95zkag1oM3WpU3J/pub?w=806&h=134\n",
    "\" style=\"width:50%\">\n",
    "    <figcaption style=\"text-align:center\"><strong> <br> Negative indexing in a list</strong></figcaption>   \n",
    "</figure></center>\n",
    "\n",
    "<div class=\"alert alert-block alert-info\"> <b>TRY IT!</b> Using negative indexing, create a new list named <code>new_list</code> that contains the first and last elements of <code>mixed_list</code>.</div>"
   ]
  },
  {
   "cell_type": "code",
   "execution_count": null,
   "id": "50be5bdb",
   "metadata": {},
   "outputs": [],
   "source": []
  },
  {
   "cell_type": "markdown",
   "id": "e2a24280",
   "metadata": {},
   "source": [
    "<div class=\"alert alert-block alert-success\"> <b>TIP!</b> Using <code>list_name[-1]</code> is really useful when you don't know how big a list is, so you don't know what index to use to access the last element. An alternative would be to use <code>list_name[len(list_name) - 1]</code>.</div>\n",
    "\n",
    "### 1.1.2. Slicing\n",
    "\n",
    "Not only can we access individual elements, but we can also access a sequence of elements from a list. This is known as slicing.\n",
    "\n",
    "In general, the syntax for slicing in Python is `list_name[start:end:step]`, where:\n",
    "* `start`: an integer specifying the starting index (included). If `start` is not specified, slicing will start from index 0 (first position).\n",
    "* `end`: an integer specifying the ending index (excluded). If `end` is not specified, slicing will end at the last index.\n",
    "* `step`: an integer specifying the step between the indices. If `step` is not specified, the result will be equivalent to using `step = 1`. If `step` is specified, the result will be elements with the following indices: \n",
    "\n",
    "$$[\\text{start, start + step, start + 2 $\\times$ step, ...}]$$\n",
    "\n",
    "For example, if we want to only get `['ENGIN', 7]` from `mixed_list`, we could use the following command:\n",
    "\n",
    "```python\n",
    ">>> mixed_list[2:4]\n",
    "\n",
    "['ENGIN', 7]     \n",
    "```\n",
    "\n",
    "`[2:4]` means take all elements from index `2` (inclusive) and up to index `4` (exclusive). When slicing in Python, the **upper-bound is exclusive**, so `[2:4]` actually takes a slice from indices 2 $\\rightarrow$ 3 instead of 2 $\\rightarrow$ 4. \n",
    "\n",
    "Let's use `numeric_list = [0, 1, 2, 3, 4, 5, ... , 98, 99, 100]` as an example.\n",
    "\n",
    "<div class=\"alert alert-block alert-info\"> <b>TRY IT!</b> Run the code below and change the values for start, end, and step to check how they affect slicing.</div> "
   ]
  },
  {
   "cell_type": "code",
   "execution_count": null,
   "id": "6b683c08",
   "metadata": {},
   "outputs": [],
   "source": [
    "import ipywidgets as widgets  # import ipywidgets package for interactive widgets\n",
    "\n",
    "# create list\n",
    "numeric_list = list(range(0, 101))\n",
    "\n",
    "# create 3 sliders for start, end, and step\n",
    "@widgets.interact(start=(0,101), end=(0,101), step=(1,10))\n",
    "\n",
    "# define a function that takes the values from the sliders and slices numeric_list\n",
    "def slicing(start, end, step):\n",
    "    print(f'\\n >>> numeric_list[{start}:{end}:{step}] \\n')\n",
    "    print(numeric_list[start:end:step])\n",
    "    return"
   ]
  },
  {
   "cell_type": "markdown",
   "id": "a45baa1b",
   "metadata": {},
   "source": [
    "<div class=\"alert alert-block alert-info\"> <b>TRY IT!</b> Check the outputs of <code>numeric_list[:10]</code>, <code>numeric_list[:]</code>, and <code>numeric_list[::2]</code>.</div> "
   ]
  },
  {
   "cell_type": "code",
   "execution_count": null,
   "id": "499ed383",
   "metadata": {},
   "outputs": [],
   "source": [
    "# elements from index 0 (included) to 10 (excluded, so index 9, which is 10-1)\n",
    "print(numeric_list[:10], '\\n')\n",
    "\n",
    "# the whole array, equivalent to [0:101:1] in this case\n",
    "print(numeric_list[:], '\\n') \n",
    "\n",
    "# every other element starting from the beginning, equivalent to [0:101:2] in this case\n",
    "print(numeric_list[::2]) "
   ]
  },
  {
   "cell_type": "markdown",
   "id": "4435fff7",
   "metadata": {},
   "source": [
    "You can also use negative indices when slicing. Even when slicing using negative indices, the upper-bound `end` is exclusive.\n",
    "\n",
    "Let's use `numeric_list = [0, 1, 2, 3, 4, 5, ... , 98, 99, 100]` as an example.\n",
    "\n",
    "```python\n",
    ">>> numeric_list[:-1]\n",
    "\n",
    "[0, 1, 2, 3, 4, ... , 99]       \n",
    "```\n",
    "\n",
    "In the example above, since `start` is not specified, the slice will start from index 0 (inclusive) up to index -1 (exclusive). Thus, the output includes the full list except for the last element, `100`.\n",
    "\n",
    "<div class=\"alert alert-block alert-info\"> <b>TRY IT!</b> Run the code below and change the values for start, end, and step to check how they affect slicing.</div> "
   ]
  },
  {
   "cell_type": "code",
   "execution_count": null,
   "id": "85d99699",
   "metadata": {},
   "outputs": [],
   "source": [
    "import ipywidgets as widgets  # import ipywidgets package for interactive widgets\n",
    "\n",
    "# create list\n",
    "numeric_list = list(range(0, 101))\n",
    "\n",
    "# create 3 sliders for start, end, and step\n",
    "@widgets.interact(start=(-102,-1), end=(-102,-1), step=(-10,2))\n",
    "\n",
    "# define a function that takes the values from the sliders and slices numeric_list\n",
    "def slicing(start, end, step):\n",
    "    print(f'\\n >>> numeric_list[{start}:{end}:{step}] \\n')\n",
    "    print(numeric_list[start:end:step])\n",
    "    return"
   ]
  },
  {
   "cell_type": "markdown",
   "id": "5c971f22",
   "metadata": {},
   "source": [
    "## 1.2. Mutating a List\n",
    "\n",
    "Python lists are **mutable**, which means that their contents **can** be modified. We will later see data structures that are immutable, which cannot be changed after they are created.\n",
    "\n",
    "You can use single element indexing and the assignment operator to modify a value of a list. You can also replace multiple elements of a list by a single value using slicing, or alternatively, reassign them to multiple values.\n",
    "\n",
    "**Examples:**\n",
    "\n",
    "```python\n",
    ">>> text_list = ['Welcome', 'to', 'ENGIN7!']\n",
    ">>> text_list[2] = 'E7!'                      # single element modification\n",
    ">>> print(text_list)\n",
    "\n",
    "['Welcome', 'to', 'E7!']\n",
    "\n",
    ">>> text_list[1:3] = ['ENGIN7', 'students!']  # multiple element modification\n",
    ">>> print(text_list)\n",
    "\n",
    "['Welcome', 'ENGIN7', 'students!']\n",
    "```\n",
    "\n",
    "<div class=\"alert alert-block alert-info\"> <b>TRY IT!</b> Modify <code>mixed_list</code> to replace the third and fourth items with another course, <code>'CE'</code> and <code>93</code>, respectively.</div> \n",
    "\n",
    "Recall that we have defined: `mixed_list = ['Welcome', 'to', 'ENGIN', 7, '!']`"
   ]
  },
  {
   "cell_type": "code",
   "execution_count": null,
   "id": "3d4252fd",
   "metadata": {},
   "outputs": [],
   "source": [
    "# modify mixed_list\n",
    "\n",
    "\n",
    "# print mixed_list\n",
    "print(mixed_list)"
   ]
  },
  {
   "cell_type": "markdown",
   "id": "ab95f81e",
   "metadata": {},
   "source": [
    "In this example, we modified the third element of the list `mixed_list` from `'ENGIN'` to `'CE'` and the fourth element from `7` to `93`. This demonstrates the mutability of lists, where you can alter their contents after creation.\n",
    "\n",
    "## 1.3. Length \n",
    "\n",
    "We can check the length of a list using the built-in `len()` function. This will return the total number of elements in the list.\n",
    "\n",
    "<div class=\"alert alert-block alert-info\"> <b>TRY IT!</b> Check the length of <code>mixed_list</code> in Python.</div>"
   ]
  },
  {
   "cell_type": "code",
   "execution_count": null,
   "id": "2ffa67ef",
   "metadata": {},
   "outputs": [],
   "source": [
    "print(len(mixed_list))"
   ]
  },
  {
   "cell_type": "markdown",
   "id": "80d7c6ed",
   "metadata": {},
   "source": [
    "## 1.4. List Operations\n",
    "\n",
    "Some of the arithmetic operators we have used for numbers before can also be applied to lists. However, the effect may not always be what we expect. For example, using the `+` operator with lists, like `list1 + list2`, won't perform arithmetic addition between the values of the two lists. Instead, this will concatenate them into a combined list. \n",
    "\n",
    "Additionally, a list can be repeated a specific number of times with the `*` operator simply by multiplying the list by that number. Note that the number you multiply a list by should be of type `int`.\n",
    "\n",
    "<div class=\"alert alert-block alert-info\"> <b>TRY IT!</b> Concatenate the following two lists <code>list1 = [1]</code> and <code>list2 = [2]</code>. Save them as a new variable called <code>new_list</code>.<br> &emsp;&emsp;&emsp;&ensp; Then try to multiply <code>list1</code> by an integer and check the output.</div>"
   ]
  },
  {
   "cell_type": "code",
   "execution_count": null,
   "id": "5a9fff04",
   "metadata": {},
   "outputs": [],
   "source": [
    "list1 = [1]\n",
    "list2 = [2]\n",
    "\n",
    "# concatenate list1 and list2\n",
    "\n",
    "print(new_list)\n",
    "\n",
    "# multiply list1 by an integer\n",
    "\n",
    "print(list1)"
   ]
  },
  {
   "cell_type": "markdown",
   "id": "60982426",
   "metadata": {},
   "source": [
    "In the above example, we first concatenated two lists using the `+` operator, resulting in a combined list. Then, we used the `*` operator to repeat a list multiple times, generating a new list with repeated elements.\n",
    "\n",
    "<div class=\"alert alert-block alert-warning\"> <b>NOTE!</b> Not all arithmetic operators can be used on lists – for example, using <code>list1 - list2</code> or <code>list1 / list2</code> will raise an error.</div>\n",
    "\n",
    "We can check whether a specific element is present in a list using the membership operators: `in` and `not in`.\n",
    "\n",
    "```python\n",
    "element in list_name\n",
    "element not in list_name\n",
    "```\n",
    "\n",
    "<div class=\"alert alert-block alert-info\"> <b>TRY IT!</b> Check if 7 is in the list <code>mixed_list</code>.</div> "
   ]
  },
  {
   "cell_type": "code",
   "execution_count": null,
   "id": "3293c524",
   "metadata": {},
   "outputs": [],
   "source": []
  },
  {
   "cell_type": "markdown",
   "id": "a557f26c",
   "metadata": {},
   "source": [
    "## 1.5. List Methods\n",
    "\n",
    "In Python, methods are functions that are associated with an object and can manipulate its data or perform actions on it. Lists in Python have several built-in methods that allow for easy manipulation of the list's elements. These methods can be accessed using the syntax `list_name.method()`. Below is a list of some common list methods.\n",
    "* `list_name.append(x)`: Append item `x` to the end of the list.\n",
    "* `list_name.extend(iterable)`: Extend the list by appending all the items from `iterable`.\n",
    "* `list_name.insert(i, x)`: Insert item `x` at a specified index `i`. The first argument is the index of the element before which to insert.\n",
    "> For example, `list_name.insert(0, x)` inserts at the front of the list, and `list_name.insert(len(list_name), x)` is equivalent to `list_name.append(x)`.\n",
    "* `list_name.remove(x)`: Remove the first item whose value is equal to `x` from the list. It raises a `ValueError` if there is no such item in the list.\n",
    "* `list_name.pop(i)`: Remove and return the item at index `i` from the list. If no index is specified, `list_name.pop()` removes and returns the last item.\n",
    "* `list_name.index(x)`: Return the index of the first item from the list whose value is equal to `x`. Raises a `ValueError` if there is no such item.\n",
    "* `list_name.count(x)`: Return the number of times `x` appears in the list.\n",
    "* `list_name.reverse()`: Reverse the elements of the list.\n",
    "\n",
    "These are just a few of the methods available for manipulating lists. For a complete list, you can refer to the [official documentation](https://docs.python.org/3/tutorial/datastructures.html).\n",
    "\n",
    "You can define an empty list using `[]` and then append items to it using the above methods. \n",
    "\n",
    "| Input        | Method              |  Output            |\n",
    "| :----------: | :------------------ | :----------------- |\n",
    "| 😎😂🤩😎🤔 | `.append(🎉)`      | 😎😂🤩😎🤔🎉    |\n",
    "| 😎😂🤩😎🤔 | `.extend([🎉🚀])`  | 😎😂🤩😎🤔🎉🚀 |\n",
    "| 😎😂🤩😎🤔 | `.insert(1,🎉)`    | 😎🎉😂🤩😎🤔    |\n",
    "| 😎😂🤩😎🤔 | `.remove(😎)`      | 😂🤩😎🤔         |\n",
    "| 😎😂🤩😎🤔 | `.pop(1)`          | 😎🤩😎🤔         |\n",
    "| 😎😂🤩😎🤔 | `.index(😎)`       | 0                  |\n",
    "| 😎😂🤩😎🤔 | `.count(😎)`       | 2                  |\n",
    "| 😎😂🤩😎🤔 | `.reverse()`       | 🤔😎🤩😂😎       |\n",
    "\n",
    "<div class=\"alert alert-block alert-info\"> <b>TRY IT!</b> Define an empty list <code>list3 = []</code> and then append to it the numbers 1 and 3.</div>\n",
    "\n",
    "<div class=\"alert alert-block alert-warning\"> <b>NOTE!</b> You can only append a single item at a time using the <code>.append()</code> method. To append multiple values, use the <code>.extend()</code> method. </div>"
   ]
  },
  {
   "cell_type": "code",
   "execution_count": null,
   "id": "7ca885a3",
   "metadata": {},
   "outputs": [],
   "source": [
    "# append one value at a time\n",
    "list3 = []\n",
    "\n",
    "# modify list3\n",
    "\n",
    "print(list3)"
   ]
  },
  {
   "cell_type": "code",
   "execution_count": null,
   "id": "6392e2b3-8acc-478a-86d3-63f4455eb962",
   "metadata": {},
   "outputs": [],
   "source": [
    "# append multiple values\n",
    "list3 = []\n",
    "\n",
    "# modify list3\n",
    "\n",
    "print(list3)"
   ]
  },
  {
   "cell_type": "markdown",
   "id": "5ee3b5d6",
   "metadata": {},
   "source": [
    "<div class=\"alert alert-block alert-info\"> <b>TRY IT!</b> Insert 2 at index 1 of <code>list3</code>.</div>"
   ]
  },
  {
   "cell_type": "code",
   "execution_count": null,
   "id": "0e81cbeb",
   "metadata": {},
   "outputs": [],
   "source": [
    "# modify list3\n",
    "list3.insert(1, 2)\n",
    "\n",
    "print(list3)"
   ]
  },
  {
   "cell_type": "markdown",
   "id": "3b27c078",
   "metadata": {},
   "source": [
    "<div class=\"alert alert-block alert-info\"> <b>TRY IT!</b> Reverse the order of <code>list3</code>.</div>"
   ]
  },
  {
   "cell_type": "code",
   "execution_count": null,
   "id": "3fce98df",
   "metadata": {},
   "outputs": [],
   "source": [
    "# modify list3\n",
    "\n",
    "\n",
    "print(list3)"
   ]
  },
  {
   "cell_type": "markdown",
   "id": "951edbb9",
   "metadata": {},
   "source": [
    "Many list methods such as  `append()`, `extend()`, `insert()`, `remove()`, `pop()`, and `reverse()` modify the original list. This stems from the fundamental concept that lists are mutable.\n",
    "\n",
    "However, it's important to note that methods like `index()` and `count()` do not modify the list; they only provide information about the list's contents. Therefore, they do not change the original list.\n",
    "\n",
    "<div class=\"alert alert-block alert-info\"> <b>TRY IT!</b> Run the example below to see the effect of methods applied to lists.</div>"
   ]
  },
  {
   "cell_type": "code",
   "execution_count": null,
   "id": "66b1aeb0",
   "metadata": {},
   "outputs": [],
   "source": [
    "# define a list\n",
    "list_example = ['a', 'b', 'c', 'd']\n",
    "\n",
    "# apply reverse method\n",
    "list_example.reverse()\n",
    "\n",
    "# print the list after reverse method\n",
    "print(list_example)\n",
    "\n",
    "# apply index method\n",
    "print(list_example.index('a'))\n",
    "\n",
    "# print the list again after index method\n",
    "print(list_example)"
   ]
  },
  {
   "cell_type": "markdown",
   "id": "5f353853",
   "metadata": {},
   "source": [
    "# 2. Tuples: `( )` <a id=\"s2\"></a>\n",
    "\n",
    "Python has another sequence type called a `tuple`. Tuples are similar to lists in many ways, but there are some key differences. Like lists, tuples are used to store collections of items and can hold various data types or a combination of different data types. They are created using parentheses `()`, with items separated by commas `,`.\n",
    "\n",
    "| Feature                      | List                                | Tuple                              |\n",
    "|:-----------------------------|:------------------------------------|:-----------------------------------|\n",
    "| **Syntax**                   |`[item1, item2, ...]`                | `(item1, item2, ...)`              |\n",
    "| **Mutable**                  | Yes                                 | No                                 |\n",
    "| **Supports different types** | Yes                                 | Yes                                |\n",
    "| **Indexing and Slicing**     | Supported                           | Supported                          |\n",
    "| **Methods**                  | Many (e.g., `append()`, `remove()`) | Few (e.g., `count()`, `index()`)   |\n",
    "| **Use Cases**                | Collections that may change         | Collections that should not change |\n",
    "| **Memory Efficiency**        | Less efficient                      | More efficient                     |\n",
    "\n",
    "\n",
    "**Examples:**\n",
    "\n",
    "```python\n",
    ">>> numeric_tuple = (1, 2, 3)                          # A tuple of integers\n",
    ">>> text_tuple = ('Welcome', 'to', 'ENGIN7!')          # A tuple of strings\n",
    ">>> mixed_tuple = ('Welcome', 'to', 'ENGIN', 7, '!')   # A mixed-type tuple\n",
    "```\n",
    "\n",
    "<div class=\"alert alert-block alert-warning\"> <b>NOTE!</b> It is possible to drop the parentheses when specifying a tuple, and only use a comma separated sequence of elements: <code>numeric_tuple = 1, 2, 3</code>. However, it is good practice to include the parentheses when defining a tuple.</div>\n",
    "\n",
    "Similar to lists, you can get the length of a tuple, you can index and slice tuples. As such, these topics are not discussed again.\n",
    "\n",
    "<div class=\"alert alert-block alert-info\"> <b>TRY IT!</b> Define a tuple called <code>tuple1</code> with all integers between 1 and 5. Then, check its type using the <code>type()</code> function.</div> "
   ]
  },
  {
   "cell_type": "code",
   "execution_count": null,
   "id": "40adb42d",
   "metadata": {},
   "outputs": [],
   "source": []
  },
  {
   "cell_type": "markdown",
   "id": "b2912d65",
   "metadata": {},
   "source": [
    "## 2.1. Unpacking \n",
    "\n",
    "Tuples, as well as other sequence/data structure types, can be accessed by unpacking. Unpacking is a shorthand syntax for assigning each of the elements of a data structure to different scalar variables. This requires that the number of variables on the left side of the assignment operator `=` equals the number of elements in the data structure. Otherwise, a `ValueError` is raised.\n",
    "\n",
    "**Correct Unpacking Example:**\n",
    "\n",
    "```python\n",
    ">>> numeric_tuple = (1, 2, 3)\n",
    ">>> a1, a2, a3 = numeric_tuple # unpacking the tuple with 3 variables \n",
    ">>> print(a1, a2, a3)\n",
    "\n",
    "1 2 3      \n",
    "```\n",
    "\n",
    "**Incorrect Unpacking Example:**\n",
    "\n",
    "```python\n",
    ">>> numeric_tuple = (1, 2, 3)\n",
    ">>> a1, a2 = numeric_tuple    # unpacking the tuple with 2 variables  \n",
    "```\n",
    "```\n",
    "---------------------------------------------------------------------------\n",
    "ValueError                                Traceback (most recent call last)\n",
    "\n",
    "      1 numeric_tuple = (1, 2, 3)\n",
    "----> 2 a1, a2 = numeric_tuple\n",
    "\n",
    "ValueError: too many values to unpack (expected 2)\n",
    "```\n",
    "\n",
    "## 2.2. Tuples Are Immutable\n",
    "\n",
    "You may ask, what's the difference between lists and tuples? If they are similar to each other, why do we need another data structure? Well, tuples are created for a reason. Here's an excerpt from the [Python documentation](https://docs.python.org/3/tutorial/datastructures.html#tuples-and-sequences):\n",
    "\n",
    ">Though tuples may seem similar to lists, they are often used in different situations and for different purposes. Tuples are **immutable**, and usually contain a **heterogeneous** sequence of elements that are accessed via unpacking (see below) or indexing (or even by attribute in the case of named tuples). Lists are **mutable**, and their elements are usually **homogeneous** and are accessed by iterating over the list.\n",
    "\n",
    "So, one important difference between lists and tuples is that tuples are immutable. Once elements in a tuple are defined, they cannot be changed. In contrast, as we saw earlier, elements in a list can be changed without any issues. \n",
    "\n",
    "**Example:**\n",
    "\n",
    "```python\n",
    ">>> numeric_tuple = (1, 2, 3)\n",
    ">>> numeric_tuple[0] = 0 # attempt to reassign the first element of numeric_tuple\n",
    "```\n",
    "```\n",
    "---------------------------------------------------------------------------\n",
    "TypeError                                 Traceback (most recent call last)\n",
    "\n",
    "      1 numeric_tuple = (1, 2, 3)\n",
    "----> 2 numeric_tuple[0] = 0\n",
    "\n",
    "TypeError: 'tuple' object does not support item assignment\n",
    "```\n",
    "\n",
    "Tuples find their utility in scenarios where data should remain unchanged and structured. For example, the list of weekday names is never going to change. If we store it in a tuple, we can make sure it is never modified accidentally in an unexpected place.\n",
    "\n",
    "## 2.3. Tuple Operations\n",
    "\n",
    "Similar to lists, using the `+` operator with tuples, like `tuple1 + tuple2`, won't perform arithmetic addition between the values of the two tuples. Instead, this will concatenate them into a combined tuple. Additionally, you can use the `*` operator for tuple repetition, just as we did with lists.\n",
    "\n",
    "<div class=\"alert alert-block alert-info\"> <b>TRY IT!</b> Concatenate the following two tuples <code>tuple1 = (0, 1)</code> and <code>tuple2 = (2, 2)</code>. Save them as a new variable called <code>new_tuple</code>.<br> &emsp;&emsp;&emsp;&ensp; Then try to multiply <code>tuple1</code> by an integer and check the output.</div>"
   ]
  },
  {
   "cell_type": "code",
   "execution_count": null,
   "id": "d5afc659",
   "metadata": {},
   "outputs": [],
   "source": [
    "tuple1 = (0, 1)\n",
    "tuple2 = (2, 2)\n",
    "\n",
    "# concatenate tuple1 and tuple2\n",
    "new_tuple = tuple1 + tuple2\n",
    "print(new_tuple)\n",
    "\n",
    "# multiply tuple1 by an integer\n",
    "tuple1 *= 2\n",
    "print(tuple1)"
   ]
  },
  {
   "cell_type": "markdown",
   "id": "4a6c796f",
   "metadata": {},
   "source": [
    "## 2.4. Tuple Methods\n",
    "\n",
    "However, unlike lists which have several methods, tuples have only two built-in methods:\n",
    "* `tuple_name.index(x)`: Return the index of the first item from the tuple whose value is equal to `x`. Raises a `ValueError` if there is no such item.\n",
    "* `tuple_name.count(x)`: Return the number of times `x` appears in the tuple.\n",
    "\n",
    "These are the only methods specifically associated with tuples in Python's standard library. Tuples don't have methods for adding, removing, or modifying elements because they are designed to be immutable, and altering their contents contradicts this immutability principle."
   ]
  },
  {
   "cell_type": "markdown",
   "id": "0d355cef",
   "metadata": {},
   "source": [
    "# 3. Ranges <a id=\"s3\"></a>\n",
    "\n",
    "Another sequence type in Python is a `range`. It has very specific usages: creating ranges of integers. We create a range by calling the `range()` function, which has the following syntax:\n",
    "\n",
    "```python\n",
    "range(start, stop, step)\n",
    "```\n",
    "\n",
    "where:\n",
    "\n",
    "* `start`: an integer specifying the start value of the range. This is an optional argument. If not specified, it defaults to 0.\n",
    "* `stop`: an integer specifying the end value of the range (exclusive). This is a required argument.\n",
    "* `step`: an integer specifying the increment in the values of the range (`step` $\\neq 0$). This is an optional argument. If not specified, it defaults to 1. `step` can be positive or negative and the value in index `i` will simply be `start + step*i`\n",
    "\n",
    "The resulting range will include values from `start` up to, **but not including**, `stop`, with a spacing of `step` between each two values.\n",
    "\n",
    "<div class=\"alert alert-block alert-warning\"> <b>NOTE!</b> The built-in <code>range</code> function is specifically designed to generate sequences of <b>integers</b>. This limitation means <code>range</code> cannot directly handle non-integer values. For sequences involving non-integer steps or values, other approaches, such as NumPy arrays, are required. We will discuss NumPy arrays later in the course.</div>\n",
    "\n",
    "<div class=\"alert alert-block alert-info\"> <b>TRY IT!</b> Define a range <code>year</code> with all days of the year starting from 1 through 365 (inclusive). Print it then check its type using the <code>type()</code> function.</div> "
   ]
  },
  {
   "cell_type": "code",
   "execution_count": null,
   "id": "5758bd56",
   "metadata": {},
   "outputs": [],
   "source": []
  },
  {
   "cell_type": "markdown",
   "id": "421fd743",
   "metadata": {},
   "source": [
    "<div class=\"alert alert-block alert-info\"> <b>TRY IT!</b> Run the code below and change the values for start, stop, and step to check how they affect range.</div> "
   ]
  },
  {
   "cell_type": "code",
   "execution_count": null,
   "id": "c19dccb3",
   "metadata": {},
   "outputs": [],
   "source": [
    "import ipywidgets as widgets  # import ipywidgets package for interactive widgets\n",
    "\n",
    "# create 3 sliders for start, stop, and step\n",
    "@widgets.interact(start=(-100, 100), stop=(-100, 100), step=(-5, 10, 1))\n",
    "\n",
    "# define a function that takes the values from the sliders and returns the ndarray\n",
    "def demo_range(start, stop, step):\n",
    "    print(f'range(start={start}, stop={stop}, step={step}) \\n')\n",
    "    print(*range(start, stop, step))\n",
    "    return"
   ]
  },
  {
   "cell_type": "markdown",
   "id": "a5d27dfb",
   "metadata": {},
   "source": [
    "The `range` type is an immutable sequence of numbers and is commonly used for iterations, which we will discuss later in the course. One of its notable advantages is its memory efficiency. Unlike regular lists or tuples, a `range` object consistently takes the same small amount of memory, regardless of the size of the range it represents. Whether it is all integers from 0 to 10 or from 0 to 1000000, a `range` object only stores the `start`, `stop` and `step` values.\n",
    "\n",
    "This memory efficiency makes `range` objects an ideal choice for tasks that involve iterating over a large sequence of numbers."
   ]
  },
  {
   "cell_type": "markdown",
   "id": "8a7e0c50",
   "metadata": {},
   "source": [
    "# 4. Strings: `' '` or `\" \"` <a id=\"s4\"></a>\n",
    "\n",
    "Another non-scalar object we will discuss is a string. A string is a sequence of characters, such as `\"Hello World\"`. Strings are surrounded by either single `' '` or double quotation marks `\" \"`. Both single and double quotation marks work similarly, but there are some differences that we will discuss later. \n",
    "\n",
    "A string can include letters, digits, punctuation, spaces, and other valid symbols. They can represent anything from a single character to a word, a sentence, or even an entire book! Strings can also be assigned to variables.\n",
    "\n",
    "<div class=\"alert alert-block alert-info\"> <b>TRY IT!</b> Define a variable named <code>greeting</code> with the following string: \"Welcome to ENGIN7!\" Check its type using <code>type()</code>.</div> "
   ]
  },
  {
   "cell_type": "code",
   "execution_count": null,
   "id": "28deea62",
   "metadata": {},
   "outputs": [],
   "source": []
  },
  {
   "cell_type": "markdown",
   "id": "8ec496df",
   "metadata": {},
   "source": [
    "## 4.1. Indexing and Slicing\n",
    "\n",
    "A string is an ordered sequence of characters, such as letters, digits, punctuation, spaces, and other valid symbols. Because strings are ordered, they have indices to indicate the location of **each character**. Indexing in strings is very similar to other data structures. Just as every element in a list/tuple has an index, every character in a string has an index. Let's take a look at a side-by-side comparison.\n",
    "\n",
    "<br>\n",
    "\n",
    "<center><figure>\n",
    "    <table><tr>\n",
    "    <td> \n",
    "      <p align=\"center\" style=\"padding: 10px\">\n",
    "        <img src=\"https://docs.google.com/drawings/d/e/2PACX-1vSgHlUHF_yY35KnVfVmNRZRyObn2nDdf3099srZ0xY_9O4FpF59fOetXDqkfaOuBSSVAKTRDJe3gMtT/pub?w=835&h=89\" style=\"width:100%\">\n",
    "        <br>\n",
    "      </p> \n",
    "    </td>\n",
    "    <td> \n",
    "      <p align=\"center\">\n",
    "        <img src=\"https://docs.google.com/drawings/d/e/2PACX-1vSa2alJxSF5L9KcnHtBL6KgzcdLt97Fqr6jyl_glmfTI9SVIgZhBZP376Nte8POV95zkag1oM3WpU3J/pub?w=538&h=89\" style=\"width:100%\">\n",
    "        <br>\n",
    "      </p> \n",
    "    </td>\n",
    "    </tr></table>\n",
    "    <figcaption style=\"text-align:center\"><strong>Indexing in Python strings (right) and lists (left)</strong></figcaption>  \n",
    "</figure></center>\n",
    "\n",
    "As you can see, the concept of indexing is consistent. The index starts at 0 for the first item, and it increases by 1 for each subsequent item. Whether you're working with characters in a string or items in a list, the indexing process remains the same.\n",
    "\n",
    "The same slicing syntax `[start:end:step]`  that we learned for lists can also be used for strings. So, everything we discussed about slicing and negative indexing applies equally to strings.\n",
    "\n",
    "Note that even a space is considered a character, and thus it has an index. Therefore, `\"Welcome to ENGIN7!\"` is different from `\"WelcometoENGIN7!\"`. Understanding string indexing is crucial for effectively working with and manipulating strings.\n",
    "\n",
    "<div class=\"alert alert-block alert-info\"> <b>TRY IT!</b> Print the character with index 10. Print the character with index 16 and then check its type.</div> "
   ]
  },
  {
   "cell_type": "code",
   "execution_count": null,
   "id": "d030cac6",
   "metadata": {},
   "outputs": [],
   "source": []
  },
  {
   "cell_type": "markdown",
   "id": "8bdc9470",
   "metadata": {},
   "source": [
    "<div class=\"alert alert-block alert-info\"> <b>TRY IT!</b> Run the code below and change the values for start, end, and step to check how they affect slicing.</div> "
   ]
  },
  {
   "cell_type": "code",
   "execution_count": null,
   "id": "773d95cf",
   "metadata": {},
   "outputs": [],
   "source": [
    "import ipywidgets as widgets  # import ipywidgets package for interactive widgets\n",
    "\n",
    "# create 3 sliders for start, end, and step\n",
    "@widgets.interact(start=(0,18), end=(0,18), step=(1,18))\n",
    "\n",
    "# define a function that takes the values from the sliders and slices the string saved in greeting\n",
    "def slicing(start, end, step):\n",
    "    print(f'greeting[{start}:{end}:{step}]')\n",
    "    return greeting[start:end:step]"
   ]
  },
  {
   "cell_type": "markdown",
   "id": "ae296bc0",
   "metadata": {},
   "source": [
    "<div class=\"alert alert-block alert-info\"> <b>TRY IT!</b> Check the outputs of <code>greeting[:7]</code>, <code>greeting[:]</code>, and <code>greeting[::2]</code>.</div> "
   ]
  },
  {
   "cell_type": "code",
   "execution_count": null,
   "id": "5ca84a98",
   "metadata": {},
   "outputs": [],
   "source": [
    "print(greeting[:7]) # characters from position 0 (included) to 7 (excluded, so 6, which is 7-1)\n",
    "\n",
    "print(greeting[:]) # the whole string, equivalent to [0:18:1] in this case\n",
    "\n",
    "print(greeting[::2]) # every other character starting from the beginning, equivalent to [0:18:2] in this case"
   ]
  },
  {
   "cell_type": "markdown",
   "id": "b9bc355d",
   "metadata": {},
   "source": [
    "We can reverse a string by specifying a negative `step`, such as -1, -2, etc... When using negative `step`, characters will be printed from right to left.\n",
    "\n",
    "<div class=\"alert alert-block alert-info\"> <b>TRY IT!</b> Reverse the order of the characters in <code>greeting</code>.</div> "
   ]
  },
  {
   "cell_type": "code",
   "execution_count": null,
   "id": "bb77de99",
   "metadata": {},
   "outputs": [],
   "source": [
    "# all characters in reverse order\n"
   ]
  },
  {
   "cell_type": "markdown",
   "id": "3de1cc61",
   "metadata": {},
   "source": [
    "<div class=\"alert alert-block alert-warning\"> <b>NOTE!</b> While the syntax of <code>greeting[-1]</code>, <code>greeting[:-1]</code>, and <code>greeting[::-1]</code> look similar, all return completely different outputs. Always remember that the grammar rules of a programming language are rigid, and that small changes to an expression can change its meaning entirely. </div>\n",
    "\n",
    "## 4.2. Strings Are Immutable\n",
    "\n",
    "Strings are **immutable**, which means you **cannot** change individual characters in a string once it has been created.\n",
    "\n",
    "**Example:**\n",
    "\n",
    "```python\n",
    ">>> course = \"WNGIN7\"\n",
    ">>> course[0] = \"E\" # attempt to reassign the first character of course\n",
    "```\n",
    "```\n",
    "---------------------------------------------------------------------------\n",
    "TypeError                                 Traceback (most recent call last)\n",
    "\n",
    "      1 course = \"WNGIN7\"\n",
    "----> 2 course[0] = \"E\" \n",
    "\n",
    "TypeError: 'str' object does not support item assignment\n",
    "```\n",
    "\n",
    "This error occurs because strings do not support item assignment. Once a string is created, its contents cannot be altered. If you need to modify a string, you would typically create a new string with the desired modifications.\n",
    "\n",
    "**Example:**\n",
    "\n",
    "```python\n",
    ">>> course = \"WNGIN7\"\n",
    ">>> course = \"ENGIN7\"  # reassigning the entire string variable\n",
    ">>> print(course)\n",
    "\n",
    "ENGIN7\n",
    "```\n",
    "\n",
    "In this example, we are not modifying the original string \"WNGIN7\", but rather assigning a completely new string \"ENGIN7\" to the variable course.\n",
    "\n",
    "## 4.3. Length\n",
    "\n",
    "Similar to other data structures, we can check the length of a string using the built-in function `len()`. This will return the total number of all characters in the string, including letters, digits, punctuation, spaces, and other valid symbols.\n",
    "\n",
    "<div class=\"alert alert-block alert-info\"> <b>TRY IT!</b> Print the length of <code>greeting</code>.</div> "
   ]
  },
  {
   "cell_type": "code",
   "execution_count": null,
   "id": "b83560e8",
   "metadata": {},
   "outputs": [],
   "source": []
  },
  {
   "cell_type": "markdown",
   "id": "33dfc83e",
   "metadata": {},
   "source": [
    "## 4.4. Strings Operations\n",
    "\n",
    "Strings can be concatenated (glued together) with the `+` operator. This allows you to combine multiple strings into a single string. So, writing `\"Welcome \" + \"to \" + \"ENGIN7!\"` will give us the same string as `greeting`. Notice how spaces were included after \"Welcome\" and after \"to\".\n",
    "\n",
    "<div class=\"alert alert-block alert-info\"> <b>TRY IT!</b> Create a string without any spaces within the quotations using <code>\"Welcome\" + \"to\" + \"ENGIN7!\"</code>.</div> \n",
    "\n",
    "Python will not automatically add a space because these are different words; this is up to the programmer (you) to specify."
   ]
  },
  {
   "cell_type": "code",
   "execution_count": 1,
   "id": "889be7d0",
   "metadata": {},
   "outputs": [
    {
     "name": "stdout",
     "output_type": "stream",
     "text": [
      "WelcometoENGIN7!\n"
     ]
    }
   ],
   "source": [
    "print(\"Welcome\" + \"to\" + \"ENGIN7!\")"
   ]
  },
  {
   "cell_type": "markdown",
   "id": "8c1d8302",
   "metadata": {},
   "source": [
    "A string can be repeated a specific number of times with the `*` operator simply by multiplying the string by that number. However, it's important to note that the number you multiply the string by should be of type `int`. You cannot multiply `str` by a `float` or by another `str`.\n",
    "\n",
    "<div class=\"alert alert-block alert-info\"> <b>TRY IT!</b> Repeat the statement in <code>greeting</code> 3 times. What happens if you try to run <code>greeting * '3'</code>?</div>"
   ]
  },
  {
   "cell_type": "code",
   "execution_count": null,
   "id": "a8420108",
   "metadata": {},
   "outputs": [],
   "source": []
  },
  {
   "cell_type": "markdown",
   "id": "2d18371c",
   "metadata": {},
   "source": [
    "To check whether a specific character or string is part of another string, you can use the operator `string1 in string2`. This will return `True` if `string1` is a part of `string2`, `False` otherwise. Using `string1 not in string2` will return `True` is `string1` is not part of `string2`, `False` otherwise.\n",
    "\n",
    "<div class=\"alert alert-block alert-info\"> <b>TRY IT!</b> Check if \",\" is in <code>greeting</code>.</div>"
   ]
  },
  {
   "cell_type": "code",
   "execution_count": null,
   "id": "6128e7c8",
   "metadata": {},
   "outputs": [],
   "source": [
    "print(',' in greeting)"
   ]
  },
  {
   "cell_type": "markdown",
   "id": "621ef2b1",
   "metadata": {},
   "source": [
    "## 4.5. String Methods\n",
    "\n",
    "Strings have several built-in methods that could be used to manipulate them. Below is a list of some common string methods. This list is not exhaustive. In lab assignments, you might have to use other string methods.\n",
    "\n",
    "* [`string.lower()`](https://docs.python.org/3/library/stdtypes.html#str.lower): Return a copy of the string with all the characters converted to lowercase.\n",
    "* [`string.upper()`](https://docs.python.org/3/library/stdtypes.html#str.upper): Return a copy of the string with all the characters converted to uppercase.\n",
    "* [`string.count(sub)`](https://docs.python.org/3/library/stdtypes.html#str.count): Return the number of non-overlapping occurrences of substring `sub` in the string.\n",
    "* [`string.find(sub)`](https://docs.python.org/3/library/stdtypes.html#str.find): Return the lowest index in the string where substring `sub` is found. Return -1 if `sub` is not found.\n",
    "* [`string.index(sub)`](https://docs.python.org/3/library/stdtypes.html#str.index): Similar to `string.find(sub)`, but raises `ValueError` when the substring `sub` is not found.\n",
    "* [`string.replace(old, new)`](https://docs.python.org/3/library/stdtypes.html#str.replace): Return a copy of the string with all occurrences of substring `old` replaced by `new`.\n",
    "\n",
    "These are just a few of the methods available for manipulating strings. For a complete list, you can refer to the [official documentation](https://docs.python.org/3/library/stdtypes.html#string-methods).\n",
    "\n",
    "<div class=\"alert alert-block alert-info\"> <b>TRY IT!</b> Run the following commands: <code>greeting.lower()</code>, <code>greeting.count('N')</code>, and <code>greeting.replace('ENGIN7', 'E7')</code>.</div>\n",
    "\n",
    "Recall that `greeting = \"Welcome to ENGIN7!\"`."
   ]
  },
  {
   "cell_type": "code",
   "execution_count": null,
   "id": "fcc438b1",
   "metadata": {},
   "outputs": [],
   "source": [
    "print(greeting.lower()) # Converts a string into lower case\n",
    "\n",
    "print(greeting.count('N')) # Returns the number of times a specified value (in this case 'N') occurs in a string\n",
    "\n",
    "print(greeting.replace('ENGIN', 'E')) # Returns a string where a specified value is replaced with another specified value"
   ]
  },
  {
   "cell_type": "markdown",
   "id": "46ea3fa4",
   "metadata": {},
   "source": [
    "Although strings and lists both have several methods, there is a key difference in the behavior between methods applied to lists and strings in Python. We saw earlier that some list methods modify the original list. However, none of the string methods ever change the original string. This stems from the fundamental concept that lists are mutable whereas strings are immutable.\n",
    "\n",
    "<div class=\"alert alert-block alert-info\"> <b>TRY IT!</b> Run the example below to see the differences between methods applied to strings and to lists.</div>"
   ]
  },
  {
   "cell_type": "code",
   "execution_count": null,
   "id": "942d6ec2",
   "metadata": {},
   "outputs": [],
   "source": [
    "string_example = 'abcd'\n",
    "list_example = ['a', 'b', 'c', 'd']\n",
    "\n",
    "string_example.upper()\n",
    "list_example.reverse()\n",
    "\n",
    "print(string_example)\n",
    "print(list_example)"
   ]
  },
  {
   "cell_type": "markdown",
   "id": "7acfeadd",
   "metadata": {},
   "source": [
    "The key takeaway from this example is that methods applied to strings do not modify the original string; they return a new string with the result. In contrast, methods applied to lists can modify the original list in place. You can achieve similar effects to modifying a string in place by reassigning the variable with the modified string.\n",
    "\n",
    "**Example:**\n",
    "\n",
    "```python\n",
    ">>> string_example = 'abcd'\n",
    ">>> string_example = string_example.upper()  # reassigning the entire string variable\n",
    ">>> print(string_example)\n",
    "\n",
    "ABCD\n",
    "```"
   ]
  },
  {
   "cell_type": "markdown",
   "id": "b8282c64",
   "metadata": {},
   "source": [
    "## 4.6. Single and Double Quotations\n",
    "\n",
    "In Python, strings are surrounded by either single or double quotation marks, and both options work the same way for creating strings. However, the difference becomes apparent when these quotes are used together. You may find yourself in a situation where you want to use an apostrophe as a string, such as the word `don't`. Double quotes allow you to include apostrophes inside of strings. Alternatively, if using single quotes, a backslash (`\\`) can be included before the apostrophe as a way to tell Python this is part of the string. The backslash is used to escape characters that otherwise have a special meaning, such as the quote character. If you want to include a backslash as a character in the the string, you have to use double backslash `\\\\`. This will include a single backslash `\\` in the string.\n",
    "\n",
    "<div class=\"alert alert-block alert-info\"> <b>TRY IT!</b> Run the following using single and double quotes <code>This won't work with a single-quoted string!</code> and <code>Don\\'t cheat, it\\'s not worth the consequences.</code>.</div>"
   ]
  },
  {
   "cell_type": "code",
   "execution_count": null,
   "id": "da0e25fd",
   "metadata": {},
   "outputs": [],
   "source": [
    "'This won't work with a single-quoted string!'\n",
    "\"This won't work with a single-quoted string!\""
   ]
  },
  {
   "cell_type": "code",
   "execution_count": null,
   "id": "fb55164e",
   "metadata": {},
   "outputs": [],
   "source": [
    "'Don\\'t cheat, it\\'s not worth the consequences.'\n",
    "\"Don\\'t cheat, it\\'s not worth the consequences.\""
   ]
  },
  {
   "cell_type": "markdown",
   "id": "71d5db9c",
   "metadata": {},
   "source": [
    "## 4.7. String Formatting\n",
    "\n",
    "We previously saw that numbers can also be expressed as <code>str</code>. For example, <code>'123'</code> represents the string '123', not the number 123. \n",
    "\n",
    "Therefore, `'123' + 1` will raise a `TypeError` because `str` cannot be concatenated to `int` or `float` data types.\n",
    "\n",
    "We can convert other data types to strings using the built-in function `str()`. For example `str(1)` will convert the number 1, to the string '1'. This is particularly useful when you have calculated a numeric variable and want to print it out with a string. In this case, you can convert the numeric variable to a string and then concatenate it with the string you are trying to print.\n",
    "\n",
    "<div class=\"alert alert-block alert-info\"> <b>TRY IT!</b> Define the variable <code>number = 400</code> and then try to print a statement that says: <code>There are x students in E7.</code>, where <code>x</code> should be replaced by the value of the variable <code>number</code>.</div>"
   ]
  },
  {
   "cell_type": "code",
   "execution_count": null,
   "id": "ba296b86",
   "metadata": {},
   "outputs": [],
   "source": [
    "number = 400\n",
    "statement = ...\n",
    "print(statement)"
   ]
  },
  {
   "cell_type": "markdown",
   "id": "23c61511",
   "metadata": {},
   "source": [
    "There are other neater ways to format a string from a combination of data types, which is known as string formatting. Python introduced a new way to do string formatting known as string literals or \"f-strings\" (for formatted string).\n",
    "\n",
    "**Example:**\n",
    "\n",
    "```python\n",
    ">>> course_code = 'ENGIN'\n",
    ">>> course_number = 7\n",
    ">>> average_gpa = 3.15\n",
    ">>> f'Welcome to {course_code}{course_number}! The average GPA in this course is typically {average_gpa}.'\n",
    "\n",
    "'Welcome to ENGIN7! The average GPA in this course is typically 3.15.'      \n",
    "```\n",
    "\n",
    "As you can see, this prefixes the string with the letter `f` and the variables, which could be strings, numeric, or other are included between `{}`.\n",
    "\n",
    "You can embed different Python expressions, such as arithmetic expressions, between `{}`.\n",
    "\n",
    "<div class=\"alert alert-block alert-info\"> <b>TRY IT!</b> Print the following statement using the new formatting syntax: \"Nine divided by two is x, where y is the quotient and z is the remainder\". Replace x, y, and z with the correct values.</div>"
   ]
  },
  {
   "cell_type": "code",
   "execution_count": null,
   "id": "08840917",
   "metadata": {},
   "outputs": [],
   "source": [
    "divisor = 2\n",
    "dividend = 9\n",
    "\n",
    "x = dividend / divisor\n",
    "y = dividend // divisor\n",
    "z = dividend % divisor\n",
    "\n",
    "# print statement\n"
   ]
  },
  {
   "cell_type": "markdown",
   "id": "42125fae-e79b-4f29-86de-d78984df2bb9",
   "metadata": {},
   "source": [
    "## 4.8. String Comparison\n",
    "\n",
    "You can use logical expressions such as `==` and `!=` with strings to compare and evaluate them. These comparisons evaluate whether two strings are identical or different. It's important to note that string are case-sensitive, meaning `\"Hello\"` is not the same as `\"hello\"`. Also, even a space is considered a character, meaning `\" hello\"` is not the same as `\"hello\"`.\n",
    "\n",
    "<div class=\"alert alert-block alert-info\"> <b>TRY IT!</b> Using logical expressions, check if <code>greeting</code> is equal to <code>\"Welcome \" + \"to \" + \"ENGIN7!\"</code>.</div>\n",
    "\n",
    "Recall that `greeting = \"Welcome to ENGIN7!\"`."
   ]
  },
  {
   "cell_type": "code",
   "execution_count": null,
   "id": "0e66c5dd-80bd-48eb-926f-83ec45cfa5a4",
   "metadata": {},
   "outputs": [],
   "source": [
    "print(greeting ==  \"Welcome \" + \"to \" + \"ENGIN7!\")"
   ]
  },
  {
   "cell_type": "markdown",
   "id": "a80cffe4",
   "metadata": {},
   "source": [
    "# 5. Converting Between Types <a id=\"s5\"></a>\n",
    "\n",
    "In programming, you often encounter situations where you need to convert data from one type to another. Python provides a set of built-in functions that allow you to convert between different data types. These conversions are especially handy when dealing with mutable and immutable data structures.\n",
    "\n",
    "We saw earlier that Python allows converting numbers to strings using the `str()` function. Likewise, we can convert a string that contains numbers only to `int` or `float` using the `int()` and `float()` functions, respectively. \n",
    "\n",
    "To convert a string into a list of individual characters, you can use the `list()` function. Similarly, to convert a string into a tuple of individual characters, you can use the `tuple()` function. You can also convert data from other types, such as ranges, into lists and tuples using the `list()` and `tuple()` functions, respectively.\n",
    "\n",
    "| Function  | Description                                      | Example                                 |\n",
    "|:----------|:-------------------------------------------------|:----------------------------------------|\n",
    "| `str()`   | Convert number to string                         | `str(123)` returns `'123'`              |\n",
    "| `int()`   | Convert string containing numbers to integer     | `int('123')` returns `123`              |\n",
    "|           | Convert floating-point number to integer         | `int(3.67)` returns `3`                 |\n",
    "| `float()` | Convert string containing numbers to float       | `float('3.14')` returns `3.14`           |\n",
    "|           | Convert integer to floating-point                | `float(3)` returns `3.0`           |\n",
    "| `list()`  | Convert string to list of individual characters  | `list('hello')` returns `['h', 'e', 'l', 'l', 'o']` |\n",
    "|           | Convert tuple or range to list                   | `list(range(5))` returns `[0, 1, 2, 3, 4]` |\n",
    "| `tuple()` | Convert string to tuple of individual characters | `tuple('hello')` returns `('h', 'e', 'l', 'l', 'o')` |\n",
    "|           | Convert list or range to tuple                   | `tuple(range(5))` returns `(0, 1, 2, 3, 4)` |\n",
    "\n",
    "\n",
    "<div class=\"alert alert-block alert-info\"> <b>TRY IT!</b> Define a variable named <code>greeting</code> with the following string in Python: \"Welcome to ENGIN7!\" and then convert it to a list.<br> &emsp;&emsp;&emsp;&ensp; Convert <code>year</code> from range to tuple.</div> "
   ]
  },
  {
   "cell_type": "code",
   "execution_count": null,
   "id": "b57e6fcc",
   "metadata": {},
   "outputs": [],
   "source": [
    "greeting = \"Welcome to ENGIN7!\"\n",
    "\n",
    "# convert greeting to list\n",
    "\n",
    "# convert year to tuple\n"
   ]
  },
  {
   "cell_type": "markdown",
   "id": "c1b8a0b1",
   "metadata": {},
   "source": [
    "# 6. Summary <a id=\"s6\"></a>\n",
    "\n",
    "Lists, tuples, ranges, and strings are among the most common data structures in Python, each serving specific purposes in programming. While there are other data structures not covered here, such as sets and dictionaries, they all share a common principle. However, it's essential to note that these basic structures are not designed for complex mathematical operations typically required in scientific and engineering applications. In the next section, we will explore data structures specialized for numerical computations.\n",
    "\n",
    "The table below summarizes some essential built-in functions and operations that apply to data structures in Python. The operations in the table below are widely supported by most data structure types and form the foundation of data manipulation in Python. In the table, `s` and `t` are data structures of the same type, and `n`, `i`, `j` and `k` are integers.\n",
    "\n",
    "| Operation      | Result                                                                      | \n",
    "| :------------- | :-------------------------------------------------------------------------- |\n",
    "| `x in s`       | Return `True` if an item of `s` is equal to `x`, else `False`               |\n",
    "| `x not in s`   | Return `False` if an item of `s` is equal to `x`, else `True`               |\n",
    "| `s + t`        | Concatenate (combine) `s` and `t`                                           |\n",
    "| `s * n`        | Repeat `s` n times                                                          |\n",
    "| `s[i]`         | Index and retrieve the item at index `i` of `s`                             |\n",
    "| `s[i:j]`       | Create a slice of `s` from index `i` to `j-1`                               |\n",
    "| `s[i:j:k]`     | Create a slice of of `s` from index `i` to `j-1` with step `k`              |\n",
    "| `len(s)`       | Return the length (number of items) in `s`                                  |\n",
    "| `min(s)`       | Return the smallest or lowest item in `s`                                   |\n",
    "| `max(s)`       | Return the largest or highest item in `s`                                   |\n",
    "\n",
    "Finally, when developing a computer program, selecting the appropriate data structure is crucial. Some important factors to consider are the functionality you need, flexibility, ease of use, and efficiency. Generally, the more flexible a data structure is, the less efficient it becomes, consuming more memory compared to simpler structures.\n",
    "\n",
    "<div class=\"alert alert-block alert-success\"> <b>TIP!</b> Programming is a practical skill that needs to be practiced to be learned. This, and any programming course, should not be about teaching you every data structure and memorizing how it works. Instead, this course is about teaching you a way of thinking and providing you with the fundamentals so you can look up appropriate documentation for any data structure you may encounter, read its documentation, and be able to successfully use it. For example another common data structure that we did not discuss is <code>dict</code>, which stands for dictionary. You can briefly read about in <a href=\"https://pythonnumericalmethods.studentorg.berkeley.edu/notebooks/chapter02.06-Data-Structure-Dictionaries.html\"> this documentation</a>. </div>"
   ]
  },
  {
   "cell_type": "markdown",
   "id": "a71f84bb-3c7b-421e-8dc3-8ccb890e3693",
   "metadata": {},
   "source": [
    "# 7. Additional Reading <a id=\"s7\"></a>\n",
    "\n",
    "## 7.1. String Formatting\n",
    "\n",
    "There are other ways to format a string from a combination of data types. To insert different objects within a string, the `%` operator is used along with a letter indicating the object type we want to insert in its location. The table below lists some of the commonly used string formatting specifiers.\n",
    "\n",
    "| Operator | Description                               |\n",
    "|:---------|:----------------------------------------- |\n",
    "| `%i`     | Integer (can also use `%d`)               |\n",
    "| `%f`     | Floating-point real number                |                   \n",
    "| `%s`     | String                                    |\n",
    "\n",
    "**Example:**\n",
    "\n",
    "```python\n",
    ">>> course_code = 'ENGIN'\n",
    ">>> course_number = 7\n",
    ">>> average_gpa = 3.15\n",
    ">>> 'Welcome to %s%i! The average GPA in this course is typically %f.' % (course_code, course_number, average_gpa)\n",
    "        \n",
    "'Welcome to ENGIN7! The average GPA in this course is typically 3.150000.'      \n",
    "```\n",
    "\n",
    "**What is happening?** The `%s`, `%i`, and `%f` between the quotation marks are telling Python that we want to insert some string, integer, and floating-point objects at these location, respectively. Then, outside the quotation marks, the `% (course_code, course_number, average_gpa)` lists the objects we want to insert, in the same order as they should appear in the string.\n",
    "\n",
    "<div class=\"alert alert-block alert-warning\"> <b>NOTE!</b> Using <code>%f</code> in the example above added zeros to the number. To control the number of digits, we can use <code>%.nf</code>, where <code>n</code> should be replaced by the number of digits after the decimal point to display. For example, <code>%.2f</code> will round the number to the nearest two decimal places.</div>\n",
    "\n",
    "<div class=\"alert alert-block alert-info\"> <b>TRY IT!</b> Define <code>divisor = 2</code>, <code>dividend = 9</code>, then print the following statement: \"Nine divided by two is x, where y is the quotient and z is the remainder\". Replace x, y, and z with the correct values. Display only two digits after the decimal point for x.</div>"
   ]
  },
  {
   "cell_type": "code",
   "execution_count": null,
   "id": "82133d84-3e13-4541-957c-50f4acd7458e",
   "metadata": {},
   "outputs": [],
   "source": [
    "divisor = 2\n",
    "dividend = 9\n",
    "\n",
    "x = dividend / divisor\n",
    "y = dividend // divisor\n",
    "z = dividend % divisor\n",
    "\n",
    "# print statement\n"
   ]
  },
  {
   "cell_type": "markdown",
   "id": "c291de10-b249-4cc0-b7b2-b2e2e9d4dd56",
   "metadata": {},
   "source": [
    "The above method is known as the \"old style\" string formatting."
   ]
  },
  {
   "cell_type": "markdown",
   "id": "74466d13",
   "metadata": {},
   "source": [
    "## 7.2. String Comparison\n",
    "\n",
    "When using operators like `<` or `>` with strings, the result is determined based on the alphanumerical order of characters, from left to right. If both strings have the same alphanumerical order, then a shorter string is considered less than a longer string. \n",
    "\n",
    "It's important to note that string are case-sensitive, and upper-case letters are considered less than lower-case letters. In general, Python strings use the Unicode Standard for representing characters. This means each character in a string has a unique integer code assigned to it. When you compare strings in Python, it's these Unicode integer values that are compared. Below is a list of all the useful characters in the ASCII table and their corresponding Unicode integer value (under Decimal).\n",
    "\n",
    "\n",
    "<br>\n",
    "\n",
    "<center><figure>\n",
    "  <img src=\"https://upload.wikimedia.org/wikipedia/commons/d/dd/ASCII-Table.svg\n",
    "\" style=\"width:75%\">\n",
    "    <figcaption style=\"text-align:center\"><strong>List of characters in the ASCII table:</strong> <a href=\"https://commons.wikimedia.org/wiki/File:ASCII-Table.svg\">https://commons.wikimedia.org/</a></figcaption>   \n",
    "</figure></center>\n",
    "\n",
    "<div class=\"alert alert-block alert-info\"> <b>TRY IT!</b> Using logical expressions, check if <code>greeting</code> is equal to <code>\"Welcome \" + \"to \" + \"ENGIN7!\"</code>, is less than <code>\"Welcome\"</code>, is less than <code>\"a\"</code>, and is less than <code>\"A\"</code>.</div>\n",
    "\n",
    "Recall that `greeting = \"Welcome to ENGIN7!\"`."
   ]
  },
  {
   "cell_type": "code",
   "execution_count": null,
   "id": "63de51e2",
   "metadata": {},
   "outputs": [],
   "source": [
    "print(greeting ==  \"Welcome \" + \"to \" + \"ENGIN7!\")\n",
    "\n",
    "print(greeting < \"Welcome\") # The result is based on length because because the longer string includes the shorter string\n",
    "\n",
    "print(greeting < \"a\") # The first letters W and a are compared. W < a, so True. Length does not matter here.\n",
    "\n",
    "print(greeting < \"A\") # The first letters W and A are compared. W < A, so False. Length does not matter here."
   ]
  }
 ],
 "metadata": {
  "kernelspec": {
   "display_name": "Python 3 (ipykernel)",
   "language": "python",
   "name": "python3"
  },
  "language_info": {
   "codemirror_mode": {
    "name": "ipython",
    "version": 3
   },
   "file_extension": ".py",
   "mimetype": "text/x-python",
   "name": "python",
   "nbconvert_exporter": "python",
   "pygments_lexer": "ipython3",
   "version": "3.11.9"
  }
 },
 "nbformat": 4,
 "nbformat_minor": 5
}
