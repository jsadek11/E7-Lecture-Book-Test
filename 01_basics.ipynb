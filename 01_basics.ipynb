{
 "cells": [
  {
   "cell_type": "markdown",
   "id": "fa1d1764",
   "metadata": {},
   "source": [
    "# Introduction to Computer Programming and Numerical Methods\n",
    "\n",
    "> **Mohamad M. Hallal, PhD** <br> Teaching Professor, UC Berkeley\n",
    "\n",
    "[![License](https://img.shields.io/badge/license-CC%20BY--NC--ND%204.0-blue)](https://creativecommons.org/licenses/by-nc-nd/4.0/)\n",
    "***"
   ]
  },
  {
   "cell_type": "markdown",
   "id": "87237015",
   "metadata": {},
   "source": [
    "# Python Basics \n",
    "\n",
    "1. [**Python as a Calculator**](#s1)\n",
    "2. [**Basic Data Types**](#s2)\n",
    "3. [**Variables and Assignment Operators**](#s3)\n",
    "4. [**Logical Expressions and Operators**](#s4)\n",
    "\n",
    "***"
   ]
  },
  {
   "cell_type": "markdown",
   "id": "f346cd6c",
   "metadata": {},
   "source": [
    "# 0. Motivation\n",
    "\n",
    "Effective computation requires understanding how data are stored and manipulated. Python offers a variety of built-in *symbols* that can be used to perform operations, such as addition, comparison, and logical evaluations, among others. These symbols are known as **operators**. For example, `+` symbol is the addition operator. In this section, we will introduce the fundamentals of the Python Programming language, including different operators and the operations they facilitate.\n",
    "\n",
    "**Learning objectives:**\n",
    "\n",
    "* Perform arithmetic operations using Python operators\n",
    "* Import and use functions and constants from different modules\n",
    "* Identify and distinguish between scalar data types in Python\n",
    "* Understand how Python automatically assigns data types and perform explicit type conversion using built-in functions\n",
    "* Use the `type()` function to check the type of an object\n",
    "* Use variables and the assignment operator in computations\n",
    "* Apply the rules and conventions for naming variables in Python\n",
    "* Use comparison operators and logical operators to create logical expressions for evaluating conditions \n",
    "* Apply the order of operations and operators to correctly evaluate complex expressions in Python\n",
    "\n",
    "<div class=\"alert alert-block alert-success\"> <b>TIP!</b> Programming is a practical skill that needs to be practiced to be learned. Throughout the lectures, discussions, and the course in general, you are strongly encouraged to try what you have learned by writing an actual program. You can only learn how to program by doing it yourself.</div>"
   ]
  },
  {
   "cell_type": "markdown",
   "id": "e1bab501",
   "metadata": {},
   "source": [
    "# 1. Python as a Calculator <a id=\"s1\"></a>\n",
    "\n",
    "We can use Python like a calculator. Consider the sum of 1 and 2. We can evaluate this using Python by:"
   ]
  },
  {
   "cell_type": "code",
   "execution_count": null,
   "id": "5a89778a",
   "metadata": {},
   "outputs": [],
   "source": []
  },
  {
   "cell_type": "markdown",
   "id": "841f33e5",
   "metadata": {},
   "source": [
    "## 1.1. Arithmetic Operations\n",
    "\n",
    "An arithmetic **operation** is either addition, subtraction, multiplication, division, or exponentiation (i.e., power). Each operation is represented by a specific **operator** in Python, which is a symbol that Python has reserved to perform one of the aforementioned operations.\n",
    "\n",
    "| Operation       | Mathematical Notation | Python Operator | Python Example | Output    |\n",
    "|:----------------|:---------------------:|:---------------:|:---------------|:----------|\n",
    "| Addition        | $a+b$                 | `+`             | `3 + 2`        | `5`       |\n",
    "| Subtraction     | $a-b$                 | `-`             | `3 - 2`        | `1`      |\n",
    "| Multiplication  | $a\\times b$           | `*`             | `3 * 2`        | `6`       |\n",
    "| Division        | $\\dfrac{a}{b}$        | `/`             | `3 / 2`        | `1.5`     |\n",
    "| Exponentiation  | $a^b$                 | `**`            | `3 ** 2`       | `9`       |\n",
    "\n",
    "<div class=\"alert alert-block alert-info\"> <b>TRY IT!</b> Compute $3\\times 4$ in Python.</div>"
   ]
  },
  {
   "cell_type": "code",
   "execution_count": null,
   "id": "fbda3233",
   "metadata": {},
   "outputs": [],
   "source": []
  },
  {
   "cell_type": "markdown",
   "id": "27e1b0b3",
   "metadata": {},
   "source": [
    "<div class=\"alert alert-block alert-info\"> <b>TRY IT!</b> Compute $3^4$ in Python.</div>"
   ]
  },
  {
   "cell_type": "code",
   "execution_count": null,
   "id": "df983636",
   "metadata": {},
   "outputs": [],
   "source": []
  },
  {
   "cell_type": "markdown",
   "id": "4bd04049",
   "metadata": {},
   "source": [
    "Other operations in Python include the quotient and the remainder. When dividing two numbers, the quotient represents the whole number result of the division (i.e., the integer part), while the remainder is the integer \"left over\" after performing the division.\n",
    "\n",
    "\n",
    "| Operation                  | Python Operator | Python Example | Output    |\n",
    "|:---------------------------|:---------------:|:---------------|:----------|\n",
    "| Quotient or Floor Division | `//`            | `9 // 2`       | `4`       |\n",
    "| Remainder or Modulo        | `%`             | `9 % 2`        | `1`       |\n",
    "\n",
    "<br>\n",
    "\n",
    "<center><figure>\n",
    "  <img src=\"https://docs.google.com/drawings/d/e/2PACX-1vRawMbiOpQLTevnA5wgtXhOtTAV062uTVuQ9AhIxTMeAVahwOD8VLLfpDytq7tX6zYGPlGD84ZV1vTO/pub?w=463&h=234\" style=\"width:35%\">\n",
    "  <figcaption style=\"text-align:center\"><strong>Quotient and remainder of $9/2$</strong></figcaption>  \n",
    "</figure></center>\n",
    "\n",
    "<div class=\"alert alert-block alert-info\"> <b>TRY IT!</b> Compute $\\dfrac{27}{5}$ in Python.</div>"
   ]
  },
  {
   "cell_type": "code",
   "execution_count": null,
   "id": "4ae08b26",
   "metadata": {},
   "outputs": [],
   "source": []
  },
  {
   "cell_type": "markdown",
   "id": "be0531a4",
   "metadata": {},
   "source": [
    "<div class=\"alert alert-block alert-info\"> <b>TRY IT!</b> Compute the quotient of $\\dfrac{27}{5}$ in Python.</div>"
   ]
  },
  {
   "cell_type": "code",
   "execution_count": null,
   "id": "55025a79",
   "metadata": {},
   "outputs": [],
   "source": []
  },
  {
   "cell_type": "markdown",
   "id": "3efc33d4",
   "metadata": {},
   "source": [
    "<div class=\"alert alert-block alert-info\"> <b>TRY IT!</b> Compute the remainder of $\\dfrac{27}{5}$ in Python.</div>"
   ]
  },
  {
   "cell_type": "code",
   "execution_count": null,
   "id": "49562cc7",
   "metadata": {},
   "outputs": [],
   "source": []
  },
  {
   "cell_type": "markdown",
   "id": "d40b14af",
   "metadata": {},
   "source": [
    "## 1.2. Order of Operations\n",
    "\n",
    "The **order of operations**, also known as the precedence of operations, dictates the sequence in which operations are performed. Most programming languages, including Python, obey the same order of operations you learned in school: powers taking precedence over multiplication and division, which in turn take precedence over addition and subtraction. Additionally, parentheses `()` can be used in Python to group together smaller expressions and supersede the standard order of operations. Below is the sequence in which Python executes these operations:.\n",
    "\n",
    "| Precedence      | Operation                                                | Rule                                       | \n",
    "|:----------------|:-------------------------------------------------------- | :----------------------------------------- |\n",
    "| First (Highest) | Parentheses: `( )`                                       | Evaluated starting with the innermost pair |\n",
    "| Second          | Exponentiation: `**`                                     | Evaluated from left to right               | \n",
    "| Third           | Unary positive, negative: `+x`, `-x`                     | Evaluated from left to right               |\n",
    "| Fourth          | Multiplication, division, remainder, modulo: `*`, `/`, `//`, `%`  | Evaluated from left to right      |\n",
    "| Fifth           | Addition, subtraction: `+`, `-`                          | Evaluated from left to right               |\n",
    "\n",
    "<div class=\"alert alert-block alert-success\"> <b>TIP!</b> When in doubt, throw in parentheses and be sure.</div>\n",
    "\n",
    "<div class=\"alert alert-block alert-info\"> <b>TRY IT!</b> Compute $\\dfrac{3\\times4}{2^2+\\dfrac{4}{2}}$ in Python.</div>"
   ]
  },
  {
   "cell_type": "code",
   "execution_count": null,
   "id": "38f406b0",
   "metadata": {},
   "outputs": [],
   "source": []
  },
  {
   "cell_type": "markdown",
   "id": "071cac74",
   "metadata": {},
   "source": [
    "## 1.3. Trigonometry, Logarithms, and Other Operations\n",
    "\n",
    "Python has many modules that provide a range of essential trigonometric, logarithmic, and other arithmetic functions. One such module is Python's **`math`** module, which includes functions such as sine: `sin()`, cosine: `cos()`, tangent: `tan()`, inverse sine: `asin()`, inverse cosine: `acos()`, inverse tangent: `atan()`, exponential: `exp()`, natural logarithm: `log()`, base-10 logarithm: `log10()`, and square root: `sqrt()`, among others. You can read about all the functions provided by the **`math`** module [here](https://docs.python.org/3/library/math.html).\n",
    "\n",
    "These functions are **not** inherently available in Python; *you need to import the `math` module first to access them, otherwise you will get an error.*"
   ]
  },
  {
   "cell_type": "code",
   "execution_count": null,
   "id": "aa356aca",
   "metadata": {},
   "outputs": [],
   "source": [
    "import math  # this module provides access to mathematical functions"
   ]
  },
  {
   "cell_type": "markdown",
   "id": "b4bd7933",
   "metadata": {},
   "source": [
    "Once imported, you can access all the functions provided by the `math` module. To view the available functions in the module, you can type the module name followed by a dot (<kbd>.</kbd>) and then press the <kbd>Tab</kbd> key. Additionally, typing the first few letters of a function name and pressing <kbd>Tab</kbd> key can automatically complete the function for you, a feature known as TAB completion.\n",
    "\n",
    "To get more information about a specific function, you can append a question mark (`?`) after the function's name and run the cell.\n",
    "\n",
    "<div class=\"alert alert-block alert-info\"> <b>TRY IT!</b> Type <code>math.</code> and then click the <kbd>Tab</kbd> key. Select one of the functions then add <code>?</code>. Finally, run the cell to read more about the function.</div>"
   ]
  },
  {
   "cell_type": "code",
   "execution_count": null,
   "id": "851ddac1",
   "metadata": {},
   "outputs": [],
   "source": []
  },
  {
   "cell_type": "markdown",
   "id": "8341cb7b",
   "metadata": {},
   "source": [
    "The way we use these mathematical functions (and in general, any function from a module) is by calling the function using the syntax `module.function(x)`, where:\n",
    "* `module` is the module's name or its given shortened name; e.g., `math`\n",
    "* `.function` is the specific function available within that module that you want to use; e.g., `.log10`\n",
    "* `(x)` includes inside the parentheses the input(s) that your are trying to evaluate using the function; e.g., `(100)`.\n",
    "\n",
    "**Example:** \n",
    "\n",
    "```python\n",
    ">>> math.log10(100)\n",
    "\n",
    "2.0\n",
    "```\n",
    "\n",
    "<div class=\"alert alert-block alert-warning\"> <b>NOTE!</b> The <code>math.log()</code> function in Python is $log_e$, or the natural logarithm (often denoted $ln$). It is not $log_{10}$. For $log_{10}$, you can use <code>math.log10()</code>.</div>\n",
    "\n",
    "<div class=\"alert alert-block alert-info\"> <b>TRY IT!</b> Compute $e^2$ in Python.</div>"
   ]
  },
  {
   "cell_type": "code",
   "execution_count": null,
   "id": "5723b9f4",
   "metadata": {},
   "outputs": [],
   "source": []
  },
  {
   "cell_type": "markdown",
   "id": "18cefae1",
   "metadata": {},
   "source": [
    "The **`math`** module also includes constants like $\\pi$. Because these are constants and not functions, they do not take any inputs. Therefore, when using them, you should **not** include any parentheses `()`. For example, use `math.pi` instead of `math.pi()`. Attempting to use `math.pi()` will result in a `TypeError`.\n",
    "\n",
    "**Example:** \n",
    "\n",
    "```python\n",
    ">>> math.pi\n",
    "\n",
    "3.141592653589793\n",
    "```\n",
    "\n",
    "<div class=\"alert alert-block alert-info\"> <b>TRY IT!</b> Compute $tan(\\pi/4)$ in Python.</div>"
   ]
  },
  {
   "cell_type": "code",
   "execution_count": null,
   "id": "7ac11d03-1a24-438d-a2ce-dbe55baae74c",
   "metadata": {},
   "outputs": [],
   "source": []
  },
  {
   "cell_type": "markdown",
   "id": "f2a3cf14",
   "metadata": {},
   "source": [
    "<div class=\"alert alert-block alert-warning\"> <b>NOTE!</b> Although the result above should be 1.0, it is showing 0.9999999999999999. This discrepancy is due to how Python (and in general, computers) represents numbers, which we will learn about later in the course.</div>"
   ]
  },
  {
   "cell_type": "markdown",
   "id": "fb2133b5",
   "metadata": {},
   "source": [
    "## 1.4. Overflow and Undefined Results\n",
    "\n",
    "When attempting to divide by zero by running `1/0`, Python will raise a `ZeroDivisionError`:\n",
    "\n",
    "```python\n",
    ">>> 1/0\n",
    "```\n",
    "```\n",
    "---------------------------------------------------------------------------\n",
    "ZeroDivisionError                         Traceback (most recent call last)\n",
    "\n",
    "----> 1 1/0\n",
    "\n",
    "ZeroDivisionError: division by zero\n",
    "```\n",
    "\n",
    "We previously saw that the `math` module includes constants like `math.pi`. Additionally, it includes other values, such as `math.inf`, which represents infinity.\n",
    "\n",
    "<div class=\"alert alert-block alert-info\"> <b>TRY IT!</b> Compute $\\dfrac{1}{\\infty}$ in Python.</div>"
   ]
  },
  {
   "cell_type": "code",
   "execution_count": null,
   "id": "368d3e87",
   "metadata": {},
   "outputs": [],
   "source": [
    "1 / math.inf"
   ]
  },
  {
   "cell_type": "markdown",
   "id": "ed57a2cb",
   "metadata": {},
   "source": [
    "Some calculations do not have a well-defined answer, such as $0\\times \\infty$. In such cases, Python returns `nan`, which stands for **N**ot **a** **N**umber.\n",
    "\n",
    "<div class=\"alert alert-block alert-info\"> <b>TRY IT!</b> Compute $0\\times \\infty$ in Python.</div> "
   ]
  },
  {
   "cell_type": "code",
   "execution_count": null,
   "id": "57a02f2c",
   "metadata": {},
   "outputs": [],
   "source": [
    "0 * math.inf"
   ]
  },
  {
   "cell_type": "markdown",
   "id": "d14417dc",
   "metadata": {},
   "source": [
    "<div class=\"alert alert-block alert-success\"> <b>TIP!</b> Learning to program involves trying out what you learn. What happens if you try to run <code>math.inf - math.inf</code>? What happens if you try to run <code>math.nan - math.nan</code>? You don't always need to ask an expert (or the Internet); many of these details can be discovered by trying them out yourself.</div>"
   ]
  },
  {
   "cell_type": "markdown",
   "id": "dc973851",
   "metadata": {},
   "source": [
    "# 2. Basic Data Types <a id=\"s2\"></a>\n",
    "\n",
    "In programming, understanding data types is crucial. Each object possesses a type, dictating its behavior and capabilities. The object type controls what can be done with the object, and that's why, it is important to understand the different data types and what can be done with them.\n",
    "\n",
    "## 2.1. Scalar Data Types \n",
    "\n",
    "The basic built-in scalar types in Python are listed in the table below.\n",
    "\n",
    "| Scalar Object Type  | Description                                                                   | Example   |\n",
    "|:--------------------|:----------------------------------------------------------------------------- | :-------: |\n",
    "| `int`               | Integers (negative, zero, or positive) without a fractional component         | `-100`    |\n",
    "| `float`             | Floating-point numbers with a fractional component                            | `10.2`    | \n",
    "| `complex`           | Complex numbers                                                               | `2 + 5j`  | \n",
    "| `bool`              | Boolean values `True` and `False`                                             | `True`    | \n",
    "| `NoneType`          | Null value, or no value at all                                                | `None`    | \n",
    "\n",
    "In Python, data types are set automatically based on expressions. You can use the built-in Python function `type()` to check the object type.\n",
    "\n",
    "<div class=\"alert alert-block alert-info\"> <b>TRY IT!</b> Check the type of each of the following: <code>5</code>, <code>5 * 2</code>, and <code>5 / 2</code>.</div> "
   ]
  },
  {
   "cell_type": "code",
   "execution_count": null,
   "id": "29df8714",
   "metadata": {},
   "outputs": [],
   "source": []
  },
  {
   "cell_type": "markdown",
   "id": "31bd9a2a",
   "metadata": {},
   "source": [
    "In Python, any number containing a decimal point is interpreted as a floating-point number, regardless of whether it's a whole number or not. This means even if the number appears to be an \"integer,\" Python treats it as a floating-point number if there is a decimal point.\n",
    "\n",
    "**Example:**\n",
    "\n",
    "```python\n",
    ">>> type(5.0)\n",
    "\n",
    "float\n",
    "```\n",
    "\n",
    "When a `float` object is combined with an `int` object, the result is always a `float`.\n",
    "\n",
    "<div class=\"alert alert-block alert-info\"> <b>TRY IT!</b> Check the type of the following: <code>5 * 2.0</code>.</div> "
   ]
  },
  {
   "cell_type": "code",
   "execution_count": null,
   "id": "34e9cf35",
   "metadata": {},
   "outputs": [],
   "source": []
  },
  {
   "cell_type": "markdown",
   "id": "96d0da1c",
   "metadata": {},
   "source": [
    "To represent complex numbers in Python, the imaginary part is denoted using `j` instead of $i$. A coefficient before `j` is always needed, even if it is $1$. For example $5 + i$ should be represented in Python using `5 + 1j` and **not** `5 + j`.\n",
    "\n",
    "Another way to represent a complex number in Python is to use the `complex(real, imag)` built-in function. So, `complex(5, 1)` is equivalent to `5 + 1j`."
   ]
  },
  {
   "cell_type": "markdown",
   "id": "b802f56b",
   "metadata": {},
   "source": [
    "## 2.2. Data Type Conversion\n",
    "\n",
    "As we write more programs, we will often find that we need to convert data from one type to another. We mentioned earlier that when a `float` object is combined with an `int` object, the result is always a `float`. This is *implicit* conversion, where Python performs the conversion automatically.\n",
    "\n",
    "We can also perform *explicit* conversion, where we convert the type ourselves. For example, to convert to an integer, we can use the `int()` function. The `int()` function converts a `float` to an `int` by discarding the fractional part – it always rounds down! To convert to a float, we can use the `float()` function.\n",
    "\n",
    "**Example:**\n",
    "\n",
    "```python\n",
    ">>> int(5.99)\n",
    "\n",
    "5\n",
    "```\n",
    "\n",
    "There are other data types, such as `str`, which represents strings or sequences of characters such as `\"Welcome to ENGIN7!\"`. We will introduce additional data types later in the course."
   ]
  },
  {
   "cell_type": "markdown",
   "id": "45e2c908",
   "metadata": {},
   "source": [
    "# 3. Variables and Assignment Operators <a id=\"s3\"></a>\n",
    "\n",
    "The above code snippets, while helpful for performing arithmetic operations, could be easily performed with a basic calculator. The benefit of programming is that we can store values and reuse them in subsequent calculations. \n",
    "\n",
    "## 3.1. Assignment\n",
    "\n",
    "**Variables** are used to store values in Python using an *assignment* statement. In an *assignment* statement, a name is followed by `=`, which is followed by any expression. That's why <code>=</code> is referred to as the assignment operator. The value of the expression to the right of `=` is *assigned* to the variable name to the left of `=`.\n",
    "\n",
    "**Example:**\n",
    "\n",
    "```python\n",
    ">>> a = 5\n",
    "```\n",
    "\n",
    "In this example, the value of the expression on the right-hand side (5) is assigned to the variable named `a`. After executing this line, the variable `a` behaves like the value 5 in subsequent calculations, until the variable is changed or deleted.\n",
    "\n",
    "<div class=\"alert alert-block alert-warning\"> <b>NOTE!</b> Expressions on the right-hand side can be a constant or a formula involving constants and/or variables. Python evaluates the expression on the right-hand side and assigns the result to the variable on the left-hand side.</div>\n",
    "\n",
    "<div class=\"alert alert-block alert-info\"> <b>TRY IT!</b> Define $mass = 5$, $gravity = 10$, and then compute $weight$ in Python, where $weight = mass \\times gravity$.</div> "
   ]
  },
  {
   "cell_type": "code",
   "execution_count": null,
   "id": "268a8fb8",
   "metadata": {},
   "outputs": [],
   "source": []
  },
  {
   "cell_type": "markdown",
   "id": "33b0bfd2",
   "metadata": {},
   "source": [
    "## 3.2. Re-Assignment \n",
    "\n",
    "Once a variable is assigned, it doesn't retain any memory of how it was assigned. In our previous example, we assigned the variable `weight` using the variables `mass` and `gravity`. However, modifying the values of `mass` and/or `gravity` won't automatically update the value of `weight`. To change the value of `weight`, you need to **reassign it**.\n",
    "\n",
    "<div class=\"alert alert-block alert-info\"> <b>TRY IT!</b> Reassign $mass = 2$, and then print the value of <code>weight</code> in Python.</div> \n",
    "\n",
    "You should observe that even though we changed the value of `mass`, the value of `weight` remains unaffected."
   ]
  },
  {
   "cell_type": "code",
   "execution_count": null,
   "id": "edf1787c",
   "metadata": {},
   "outputs": [],
   "source": []
  },
  {
   "cell_type": "markdown",
   "id": "4ee94265",
   "metadata": {},
   "source": [
    "## 3.3. Other Assignment Operators\n",
    "\n",
    "Besides the simple assignment operator `=`, there are several compound assignment operators, as shown in the table below.\n",
    "\n",
    "| Operator | Description               |Python Example  | Python Equivalent |\n",
    "| :------- | :------------------------ | :------------- | :---------------- |\n",
    "| `+=`     | Addition assignment       | `a += 5`       | `a = a + 5`       |\n",
    "| `-=`     | Subtraction assignment    | `a -= 5`       | `a = a - 5`       |\n",
    "| `*=`     | Multiplication assignment | `a *= 5`       | `a = a * 5`       |\n",
    "| `/=`     | Division assignment       | `a /= 5`       | `a = a / 5`       |\n",
    "| `//=`    | Floor division assignment | `a //= 5`      | `a = a // 5`      |\n",
    "| `%=`     | Modulo assignment         | `a %= 5`       | `a = a % 5`       |\n",
    "\n",
    "<div class=\"alert alert-block alert-info\"> <b>TRY IT!</b> Recall that $weight = 50$. Using one of the operators from the table, reassign <code>weight</code> the value $weight \\times 10$ and print its value.</div> "
   ]
  },
  {
   "cell_type": "code",
   "execution_count": null,
   "id": "11e5f505",
   "metadata": {},
   "outputs": [],
   "source": [
    "weight = 50\n"
   ]
  },
  {
   "cell_type": "markdown",
   "id": "62f075ba",
   "metadata": {},
   "source": [
    "## 3.4. Variable Names\n",
    "\n",
    "The statement <code>mass = 2</code> is not asserting that <code>mass</code> is already equal to 2, as one might expect in mathematical notation. Instead, this line of code defines the variable <code>mass</code> to hereafter have the value 2. Before this line of code, <code>mass</code> had the value 5, and before <code>mass = 5</code>, <code>mass</code> meant nothing at all.\n",
    "\n",
    "Although it is perfectly valid to say $2 = mass$ in mathematics, `2 = mass` will raise an error in Python.\n",
    "\n",
    "**Example:**\n",
    "\n",
    "```python\n",
    ">>> 2 = mass\n",
    "```\n",
    "```\n",
    "---------------------------------------------------------------------------\n",
    "    2 = mass\n",
    "    ^\n",
    "SyntaxError: cannot assign to literal here. Maybe you meant '==' instead of '='?\n",
    "```\n",
    "\n",
    "When trying to run `2 = mass`, you are telling Python to define a variable named `2` and assign it the value of the variable `mass`. However, `2` is not a valid variable name. That's why Python raises a `SyntaxError`. Variable names to the left of `=` cannot start with numbers. \n",
    "\n",
    "<div class=\"alert alert-block alert-warning\"> <b>NOTE!</b> As you will learn soon, to compare the right-hand side and left-hand side expressions to see if they are equal, you can use <code>==</code> (double equal sign). Python will return True/False based on whether the two sides of the expression are equal to one another or not.</div>\n",
    "\n",
    "There are some restrictions on variable names in Python, as listed below:\n",
    "* Variable names must start with a letter or underscore `_` \n",
    "* Variables can only contain alphanumeric characters (letters and numbers) as well as underscores `_` \n",
    "* Numbers are allowed after the first character of the variable name\n",
    "* No spaces or math symbols/punctuation within a variable name are permitted\n",
    "* Variable names are case-sensitive (e.g., `mass` and `Mass` will be considered different variables)\n",
    "\n",
    "<div class=\"alert alert-block alert-success\"> <b>TIP!</b> Because no spaces are permitted within a variable name (for example, <code>car speed = 5</code> will raise a <code>SyntaxError</code> because <code>car speed</code> is not a valid variable name), it is common to use an underscore <code>_</code> character to replace each space (e.g., <code>car_speed</code>). This is known as the Snake Case naming convention. Other name conventions include capitalizing the first letter after the first word, <code>carSpeed</code>, which is known as the Camel Case naming convention, or simply capitalizing the first letter of every word, <code>CarSpeed</code>, which is known as the Pascal Case naming convention.</div>\n",
    "\n",
    "<br>\n",
    "\n",
    "<center><figure>\n",
    "  <img src=\"https://miro.medium.com/v2/resize:fit:720/format:webp/1*THCiyHLUn4AZpLif2PyVFQ.png\" style=\"width:50%\">\n",
    "    <figcaption style=\"text-align:center\"><strong>Some naming conventions:</strong> <a href=\"https://medium.com/@code.ceeker/naming-conventions-camel-case-pascal-case-kebab-case-and-more-dc4e515b9652\">https://medium.com/@code.ceeker/</a></figcaption>   \n",
    "</figure></center>\n",
    "\n",
    "<br>\n",
    "\n",
    "<div class=\"alert alert-block alert-info\"> <b>TRY IT!</b> Try to assign values to the following variable names in Python and see which will raise an error: \n",
    "<pre>mass = 2\n",
    "print(Mass)\n",
    "</pre>\n",
    "    <br>\n",
    "<pre>car mass = 2\n",
    "car_mass = 2\n",
    "</pre>\n",
    "    <br>\n",
    "<pre>car^ = 5\n",
    "1st_car = 5\n",
    "car1 = 5 \n",
    "</pre>  Again, you don't always need to ask an expert (or the Internet); many of these details can be discovered by trying them out yourself.</div> "
   ]
  },
  {
   "cell_type": "code",
   "execution_count": null,
   "id": "b4e5218a",
   "metadata": {},
   "outputs": [],
   "source": []
  },
  {
   "cell_type": "markdown",
   "id": "2e2c9274",
   "metadata": {},
   "source": [
    "Python reserves certain words for special purposes, and these words cannot be used as variable names. Run the cell below to view the list of restricted words. "
   ]
  },
  {
   "cell_type": "code",
   "execution_count": null,
   "id": "d36851c0",
   "metadata": {},
   "outputs": [],
   "source": [
    "import keyword\n",
    "print(keyword.kwlist)"
   ]
  },
  {
   "cell_type": "markdown",
   "id": "8bac45f2",
   "metadata": {},
   "source": [
    "Among these reserved words is `import`, which Python uses for importing modules. Therefore, attempting to create a variable named `import` will result in a `SyntaxError`. However, you can use a capitalized version like `Import` because variable names are case-sensitive.\n",
    "\n",
    "<div class=\"alert alert-block alert-info\"> <b>TRY IT!</b> Try to define <code>import = 5</code> and <code>Import = 5</code> in Python.</div> "
   ]
  },
  {
   "cell_type": "code",
   "execution_count": null,
   "id": "7a970430",
   "metadata": {},
   "outputs": [],
   "source": [
    "import = 5\n",
    "Import = 5"
   ]
  },
  {
   "cell_type": "markdown",
   "id": "ce4cb4e4",
   "metadata": {},
   "source": [
    "## 3.5. Naming Matters\n",
    "\n",
    "Variable names play a crucial role in programming, as they contribute to code readability and clarity. They are only as useful as you make them. It is up to you, the programmer, to choose names that are easy to interpret. \n",
    "\n",
    "It is possible to overwrite variables or functions that have been stored in Python. For example, the command `math = 5` will assign the value 5 to the variable named `math` (module names are not among the restricted words). Subsequently, attempting to use functions from the `math` module, such as `math.log10()`, will result in an error because the variable `math` now holds the integer value 5 instead of the module. To resolve this issue and regain access to the `math` module, you need to re-import it using `import math`. Be cautious not to inadvertently name your variables the same as existing modules or functions.\n",
    "\n",
    "<div class=\"alert alert-block alert-info\"> <b>TRY IT!</b> Define $math = 5$, and then try to run <code>math.log10(100)</code> in Python.</div> "
   ]
  },
  {
   "cell_type": "code",
   "execution_count": null,
   "id": "4f9e41e5",
   "metadata": {},
   "outputs": [],
   "source": []
  },
  {
   "cell_type": "code",
   "execution_count": null,
   "id": "5abed988",
   "metadata": {},
   "outputs": [],
   "source": [
    "import math # re-import math module. Now, math is no longer assigned the value 5 and we can use it again with .log10()"
   ]
  },
  {
   "cell_type": "markdown",
   "id": "8c88bea1",
   "metadata": {},
   "source": [
    "Typically, more meaningful names can be defined than, let's say, <code>a</code> and <code>b</code>. For example, consider a circle with diameter equal to 2. You want to calculate its area using Python. \n",
    "\n",
    "**Code segment 1 with generic variable names:**\n",
    "\n",
    "```python\n",
    ">>> a = 2\n",
    ">>> b = math.pi * a ** 2\n",
    ">>> print(b)\n",
    "\n",
    "12.566370614359172\n",
    "```\n",
    "**Code segment 2 with meaningful variable names:**\n",
    "\n",
    "```python\n",
    ">>> diameter = 2\n",
    ">>> area = math.pi * diameter ** 2\n",
    ">>> print(area)\n",
    "\n",
    "12.566370614359172\n",
    "```\n",
    "\n",
    "Python will evaluate both code segments in the same way, and will return the same answer. However, to a human reader, the code segments are different. The first segment, with generic names, might not raise any immediate red flags. However, the second segment, with descriptive names, prompts the reader to question its logic. It suggests that either the variable should have been named `radius` instead of `diameter` or that `diameter` should have been divided by 2 in the area calculation.\n",
    "\n",
    "As far as Python is concerned, it will execute whatever expressions you provide, regardless of whether they are correct or not. That's why, **naming matters!**\n",
    "\n",
    "<div class=\"alert alert-block alert-warning\"> <b>NOTE!</b> The above code segments have a <strong>logical error</strong>. This is different from other errors in Python, in a sense that the program will run successfully without generating any error messages. However, the result is incorrect due to a mistake in the logic. We will soon learn about different error types.</div>"
   ]
  },
  {
   "cell_type": "markdown",
   "id": "7b660cf6",
   "metadata": {},
   "source": [
    "## 3.6. Managing Variables\n",
    "\n",
    "You can view a list of all the variables in the notebook using the command `%whos`.\n",
    "\n",
    "<div class=\"alert alert-block alert-info\"> <b>TRY IT!</b> List all the variables in this notebook.</div> "
   ]
  },
  {
   "cell_type": "code",
   "execution_count": null,
   "id": "7dfd57b1",
   "metadata": {},
   "outputs": [],
   "source": [
    "%whos"
   ]
  },
  {
   "cell_type": "markdown",
   "id": "03f96bf6",
   "metadata": {},
   "source": [
    "<div class=\"alert alert-block alert-warning\"> <b>NOTE!</b> In the above table, Python is showing the Type of each variable. Recall that you can obtain the type using the <code>type()</code> function. As you can see, most variables are <code>int</code>, except for <code>math</code>, which is <code>module</code>.</div>\n",
    "\n",
    "You can clear (delete) a variable from the notebook using the `del` keyword followed by the variable name. For instance, typing `del gravity` will remove the variable `gravity` from the workspace, making it undefined. If you attempt to run a command like `weight = mass * gravity` after deleting `gravity`, Python will raise a `NameError` because `gravity` is no longer defined.\n",
    "\n",
    "To remove all variables in the notebook, you can use the command `%reset`. \n",
    "\n",
    "<div class=\"alert alert-block alert-info\"> <b>TRY IT!</b> Delete the variable <code>gravity</code> and then list all the variables in this notebook.</div> "
   ]
  },
  {
   "cell_type": "code",
   "execution_count": null,
   "id": "15abd606",
   "metadata": {},
   "outputs": [],
   "source": [
    "del gravity\n",
    "%whos"
   ]
  },
  {
   "cell_type": "markdown",
   "id": "e82d7136",
   "metadata": {},
   "source": [
    "# 4. Logical Expressions and Operators <a id=\"s4\"></a>\n",
    "\n",
    "## 4.1. Logical Expressions\n",
    "\n",
    "**Logical expressions** are statements that can either be true or false. Logical expressions are used to pose questions to Python. For example, running `2 < 3` is equivalent to asking , \"*Is 2 less than 3?*\" Since this statement is true, Python will return the value `True`; otherwise, it will return False. The returned value is a data type which is known as **boolean** (or `bool`), which has the built-in values `True` and `False`.\n",
    "\n",
    "<div class=\"alert alert-block alert-info\"> <b>TRY IT!</b> Compute the logical expression for \"Is 5 greater than 2 + 2?\" in Python.</div> "
   ]
  },
  {
   "cell_type": "code",
   "execution_count": null,
   "id": "770632ca",
   "metadata": {},
   "outputs": [],
   "source": []
  },
  {
   "cell_type": "markdown",
   "id": "dbb405c9",
   "metadata": {},
   "source": [
    "Logical expressions can be applied on values, variables, or both. Python includes a variety of comparison operators for performing comparisons:\n",
    "\n",
    "| Comparison         | Python Operator | True example | False Example |\n",
    "|:-------------------|:---------------:|:-------------|:--------------|\n",
    "| Less than          | `<`             | `2 < 3`      | `2 < 2`       |\n",
    "| Greater than       | `>`             | `3 > 2`      | `3 > 3`       |\n",
    "| Less than or equal | `<=`            | `2 <= 2`     | `3 <= 2`      |\n",
    "| Greater or equal   | `>=`            | `3 >= 3`     | `2 >= 3`      |\n",
    "| Equal              | `==`            | `3 == 3`     | `3 == 2`      |\n",
    "| Not equal          | `!=`            | `3 != 2`     | `2 != 2`      |\n",
    "\n",
    "\n",
    "<div class=\"alert alert-block alert-info\"> <b>TRY IT!</b> Define $a = 6\\times 2$ and then compute the logical expression for \"Is <code>a</code> equal to $\\sqrt{144}$?\" in Python.</div> "
   ]
  },
  {
   "cell_type": "code",
   "execution_count": null,
   "id": "b784c281",
   "metadata": {},
   "outputs": [],
   "source": [
    "a = 6 * 2\n"
   ]
  },
  {
   "cell_type": "markdown",
   "id": "af84fbea",
   "metadata": {},
   "source": [
    "<div class=\"alert alert-block alert-warning\"> <b>NOTE!</b> Be careful when using the comparison operator <code>==</code>. Recall that Python evaluated <code>math.tan(math.pi/4)</code> as 0.99999999... So, although $tan(\\pi/4)$ should be equal to 1, <code>math.tan(math.pi/4) == 1</code> will evaluate to <code>False</code> because of rounding errors. We will learn more about this later in the course. Alternatively, we can use <a href=\"https://docs.python.org/3/library/math.html#math.isclose\"> <code>math.isclose(a, b)</code></a> to check if two values are close within some small tolerance. There are different definitions for the tolerance (relative vs. absolute), which you can read more about in the documentation.</div>\n",
    "\n",
    "<div class=\"alert alert-block alert-info\"> <b>TRY IT!</b> Run <code>math.tan(math.pi/4) == 1</code> in Python. Then run <code>math.isclose(math.tan(math.pi/4), 1)</code>.</div> "
   ]
  },
  {
   "cell_type": "code",
   "execution_count": null,
   "id": "89ec985f",
   "metadata": {},
   "outputs": [],
   "source": []
  },
  {
   "cell_type": "markdown",
   "id": "0716b077",
   "metadata": {},
   "source": [
    "In Python and many other programming languages, `True` is equivalent to 1 and `False` is equivalent to 0. This means you can perform arithmetic operations on `bool` data types. Because `True` is equal to 1 and `False` is equal to 0, adding logical expressions together is a quick way to count the number of `True` expressions out of many logical expressions.\n",
    "\n",
    "<div class=\"alert alert-block alert-info\"> <b>TRY IT!</b> Compute the <strong>sum</strong> of the logical expressions \"Is 5 greater than 4?\" and \"Is 5 greater than 3?\" in Python.</div> "
   ]
  },
  {
   "cell_type": "code",
   "execution_count": null,
   "id": "400c0819",
   "metadata": {},
   "outputs": [],
   "source": [
    "(5 > 4) + (5 > 3) "
   ]
  },
  {
   "cell_type": "markdown",
   "id": "617c14c3",
   "metadata": {},
   "source": [
    "The order of precedence of logical expressions is **lower** than that of addition and subtraction, meaning, logical expressions are evaluated **after** addition and subtraction. The table below shows the order of operations, including logical expressions. \n",
    "\n",
    "| Precedence      | Operation                                                         |  \n",
    "|:----------------|:----------------------------------------------------------------- |\n",
    "| First (Highest) | Parentheses: `( )`                                                |\n",
    "| Second          | Exponentiation: `**`                                              |                    \n",
    "| Third           | Unary positive, negative: `+x`, `-x`                              |\n",
    "| Fourth          | Multiplication, division, remainder, modulo: `*`, `/`, `//`, `%`  |\n",
    "| Fifth           | Addition, subtraction: `+`, `-`                                   |\n",
    "| Sixth           | Comparison operators: `==`, `>`, `<`, `!=`, ...                   |\n",
    "\n",
    "<div class=\"alert alert-block alert-info\"> <b>TRY IT!</b> Run the expression from above without the parentheses: <code>5 > 4 + 5 > 3</code> in Python.</div> \n",
    "\n",
    "Without parentheses, the `+` is executed first, and the expression is equivalent to: `5 > 9 > 3`, which is `False`."
   ]
  },
  {
   "cell_type": "code",
   "execution_count": null,
   "id": "ab455722",
   "metadata": {},
   "outputs": [],
   "source": []
  },
  {
   "cell_type": "markdown",
   "id": "30adf536",
   "metadata": {},
   "source": [
    "## 4.2. Logical Operators\n",
    "\n",
    "In most of the previous examples, we did one comparison at a time. **Logical operators** allow us to combine together multiple comparisons. There are three common logical operators: AND, OR, NOT. Operator symbols vary with different programming languages. In Python they are `and`, `or`, and `not`.\n",
    "\n",
    "\n",
    "| Operator | Description | Examples |\n",
    "| :---:    | :---:       | :---:    | \n",
    "| `and`    | `True` if **all** expressions are `True` <br> `False` otherwise| `(5 > 4) and (5 > 3)`<br>`(5 > 4) and (5 < 3)`|\n",
    "| `or`     | `True` if **at least one** expression is `True` <br> `False` otherwise| `(5 > 4) or (5 < 3)`<br>`(5 < 4) or (5 < 3)`|\n",
    "| `not`    | Reverses the result, `True` if the expression is `False` <br> `False` if the expression is `True` |`not(5 < 4)`<br>`not(5 > 4)`| \n",
    "\n",
    "<div class=\"alert alert-block alert-success\"> <b>TIP!</b> When using logical operators, use parentheses (even when not technically needed) to make the logic of the expression very clear.</div>\n",
    "\n",
    "**Truth tables:**\n",
    "\n",
    "Let `X` and `Y` be two logical expressions or `bool` variables.\n",
    "\n",
    "| `X`     | `Y`     | `X and Y` | `X or Y` |\n",
    "| :---:   | :---:   | :---:     | :---:    |\n",
    "| `False` | `False` | `False`   | `False`  |\n",
    "| `True`  | `False` | `False`   | `True`   |\n",
    "| `False` | `True`  | `False`   | `True`   |\n",
    "| `True`  | `True`  | `True`    | `True`   |\n",
    "\n",
    "| `X`     | `not X` |\n",
    "| :---:   | :---:   |\n",
    "| `False` | `True`  |\n",
    "| `True`  | `False` |\n",
    "\n",
    "<div class=\"alert alert-block alert-info\"> <b>TRY IT!</b> A fortnight is a length of time equivalent to 14 days. Define a variable <code>fortnight</code> in seconds. Using logical operators, are there more than 500,000 seconds <strong>and</strong> less than 1,000,000 seconds in a fortnight?</div> "
   ]
  },
  {
   "cell_type": "code",
   "execution_count": null,
   "id": "08b3b4da",
   "metadata": {},
   "outputs": [],
   "source": []
  },
  {
   "cell_type": "markdown",
   "id": "a2fe3a09",
   "metadata": {},
   "source": [
    "<div class=\"alert alert-block alert-info\"> <b>TRY IT!</b> Using logical operators, are there more than 500,000 seconds <strong>or</strong> less than 1,000,000 seconds in a fortnight?</div> "
   ]
  },
  {
   "cell_type": "code",
   "execution_count": null,
   "id": "f6c1cf69",
   "metadata": {},
   "outputs": [],
   "source": []
  },
  {
   "cell_type": "markdown",
   "id": "ae29ee34",
   "metadata": {},
   "source": [
    "## 4.3. Order of Operations\n",
    "\n",
    "We previously learned about the order of arithmetic operations in Python. We also mentioned earlier that the order of precedence of comparison operators (`>`, `==`, ...) is **lower** than that of addition and subtraction.\n",
    "\n",
    "The order of precedence of logical operators (`not`, `and`, `or`) is **lower** than that of comparison operators, where `not` is executed before `and`, which is executed before `or`. The table below shows the order of operations, including logical expressions and operators. \n",
    "\n",
    "| Precedence      | Operation                                                         |  \n",
    "|:----------------|:----------------------------------------------------------------- |\n",
    "| First (Highest) | Parentheses: `( )`                                                |\n",
    "| Second          | Exponentiation: `**`                                              |                    \n",
    "| Third           | Unary positive, negative: `+x`, `-x`                              |\n",
    "| Fourth          | Multiplication, division, remainder, modulo: `*`, `/`, `//`, `%`  |\n",
    "| Fifth           | Addition, subtraction: `+`, `-`                                   |\n",
    "| Sixth           | Comparison operators: `==`, `>`, `<`, `!=`, ...                   |\n",
    "| Seventh         | Logical NOT: `not`                                                |\n",
    "| Eighth          | Logical AND: `and`                                                |\n",
    "| Ninth           | Logical OR: `or`                                                  |\n",
    "\n",
    "If we run the expression from above without parentheses, this is how Python will evaluate it based on the order of precedence:\n",
    "\n",
    "\n",
    "**Example:**\n",
    "\n",
    "\n",
    "```python\n",
    ">>> fortnight > 5 * 10 ** 5 or fortnight < 10 ** 6\n",
    "```\n",
    "| Order | Operation           | `fortnight > 5 * 10 ** 5 `  | `or`   | `fortnight < 10 ** 6`   |\n",
    "| :---- | :---:               | :---:                       | :---:  | :---:                   |\n",
    "| 1     | Exponentiation      | `fortnight > 5 * 100000`    | `or`   | `fortnight < 1000000`   |\n",
    "| 2     | Multiplication      | `fortnight > 500000`        | `or`   | `fortnight < 1000000`   |\n",
    "| 3     | Logical Expressions | `True`                      | `or`   | `False`                 |\n",
    "| 4     | Logical Operators   |                             | `True` |                         |"
   ]
  }
 ],
 "metadata": {
  "kernelspec": {
   "display_name": "Python 3 (ipykernel)",
   "language": "python",
   "name": "python3"
  },
  "language_info": {
   "codemirror_mode": {
    "name": "ipython",
    "version": 3
   },
   "file_extension": ".py",
   "mimetype": "text/x-python",
   "name": "python",
   "nbconvert_exporter": "python",
   "pygments_lexer": "ipython3",
   "version": "3.11.9"
  }
 },
 "nbformat": 4,
 "nbformat_minor": 5
}
