{
 "cells": [
  {
   "cell_type": "markdown",
   "id": "fa1d1764",
   "metadata": {},
   "source": [
    "# Introduction to Computer Programming and Numerical Methods\n",
    "\n",
    "> **Mohamad M. Hallal, PhD** <br> Teaching Professor, UC Berkeley\n",
    "\n",
    "[![License](https://img.shields.io/badge/license-CC%20BY--NC--ND%204.0-blue)](https://creativecommons.org/licenses/by-nc-nd/4.0/)\n",
    "***"
   ]
  },
  {
   "cell_type": "markdown",
   "id": "87237015",
   "metadata": {},
   "source": [
    "# The Jupyter Notebook\n",
    "\n",
    "1. [**Jupyter Notebooks**](#s1)\n",
    "2. [**Programming in Python**](#s2)\n",
    "3. [**Python Basics**](#s3)\n",
    "4. [**Managing Packages**](#s4)\n",
    "\n",
    "***"
   ]
  },
  {
   "cell_type": "markdown",
   "id": "9531e1c0",
   "metadata": {
    "id": "9531e1c0"
   },
   "source": [
    "# 0. Motivation\n",
    "\n",
    "Jupyter notebooks combine code execution, text, and visualizations in a single, interactive document, making it easier to document your thought process and share your work with others. In this discussion, you will learn how to use Jupyter notebooks and the basics of programming in Python.\n",
    "\n",
    "**Learning objectives:**\n",
    "\n",
    "* Navigate the Jupyter notebook interface, including how to add and run cells\n",
    "* Write and execute basic Python code within a notebook\n",
    "* Distinguish between markdown and code cells and their functionalities\n",
    "* Import and use basic Python modules to extend functionality"
   ]
  },
  {
   "cell_type": "markdown",
   "id": "3eca9fb8",
   "metadata": {
    "id": "3eca9fb8"
   },
   "source": [
    "# 1. Jupyter Notebooks <a id=\"s1\"></a>\n",
    "\n",
    "This webpage is a Jupyter Notebook. A notebook is an interactive computing environment that enables users to write programs and view their results, and also to write text, add images and videos, among others. Jupyter notebooks provide a story-telling environment, which is great for demonstrations. They have an `.ipynb` file extension. The image below shows the general Jupyter notebook user interface (might appear slightly different for you).\n",
    "<center>\n",
    "<br>\n",
    "<figure>\n",
    "  <img src=\"https://user-images.githubusercontent.com/591645/229563988-8e3a4d04-6f31-4411-9a6b-9b9b045bc55e.png\" style=\"width:70%\">\n",
    "    <figcaption style=\"text-align:center\"><strong>Jupyter Notebook user interface:</strong> <a href=\"https://jupyter-notebook.readthedocs.io/en/latest/notebook.html\">https://jupyter-notebook.readthedocs.io/</a></figcaption>   \n",
    "</figure>\n",
    "</center>\n",
    "\n",
    "**Notebook name:** The header includes the file's name. This file is named 'disc01'.\n",
    "\n",
    "**Menu bar:** The menu presents different options that may be used to manipulate the way the notebook functions.\n",
    "\n",
    "**Toolbar:** The tool bar gives a quick way of performing the most-used operations within the notebook, by clicking on an icon.\n",
    "\n",
    "**Code cell:** The default type of cell; read on for an explanation of cells.\n",
    "\n",
    "While Jupyter notebooks are helpful when your are starting to learn programming, they have some limitations. Alternatives to Jupyter notebook for more advanced programming include Visual Studio Code (VSCode) and PyCharm, among others."
   ]
  },
  {
   "cell_type": "markdown",
   "id": "841549af",
   "metadata": {
    "id": "841549af"
   },
   "source": [
    "## 1.1. Components of Jupyter Notebooks\n",
    "\n",
    "In a notebook, each rectangle containing text or code is called a *cell*. Jupyter notebooks are generally composed of two kinds of cells:\n",
    "1. Markdown cells\n",
    "2. Code cells\n",
    "\n",
    "A **markdown cell**, such as this one, contains text, lists, images, hyperlinks, tables, formatted code, and/or Latex. Markdown cells can be edited by double-clicking on them. They're written in a simple format called [Markdown](https://www.markdownguide.org/basic-syntax/). You don't need to learn Markdown, but you might want to. Running a markdown cell will render the text. This means that headings will appear larger and bold, bulleted lists will have bullets next to them, and regular text will look normal.\n",
    "\n",
    "<div class=\"alert alert-block alert-info\"> <b>TRY IT!</b> Double click on this cell to see how markdown cells are formatted. Then run the cell by pressing <kbd>Shift</kbd>+<kbd>Enter</kbd>.</div>\n",
    "\n",
    "A **code cell**, such as the next cell, contains code in Python, a programming language that we will be using in this course. Code cells can be edited by simply clicking on them (no need to double-click like markdown cells). Running a code cell will evaluate all of the code it contains. The results that are returned from this computation are then displayed in the notebook as the cell's *output*. The output is not limited to text – we will later see graphical outputs from a code cell.\n",
    "\n",
    "<div class=\"alert alert-block alert-info\"> <b>TRY IT!</b> Run the next code cell by clicking on it and then pressing <kbd>Shift</kbd>+<kbd>Enter</kbd>. This will evaluate the code it contains and show the output.</div>"
   ]
  },
  {
   "cell_type": "code",
   "execution_count": null,
   "id": "70048dd5",
   "metadata": {
    "colab": {
     "base_uri": "https://localhost:8080/"
    },
    "executionInfo": {
     "elapsed": 5,
     "status": "ok",
     "timestamp": 1692728110770,
     "user": {
      "displayName": "Qi Zheng",
      "userId": "17420598195417583494"
     },
     "user_tz": 420
    },
    "id": "70048dd5",
    "outputId": "369c5525-3101-4b8a-85cc-ad2e5dc62fd9"
   },
   "outputs": [],
   "source": [
    "# This is a code cell\n",
    "\n",
    "print(\"Hello!\")"
   ]
  },
  {
   "cell_type": "markdown",
   "id": "85cf1713",
   "metadata": {
    "id": "77790727"
   },
   "source": [
    "## 1.2. Adding Cells\n",
    "\n",
    "To add a new cell, click the **+** button in the Toolbar. We can also add cells using other methods, which we will soon discuss.\n",
    "\n",
    "By default, every cell starts off being a **code cell**, but this can be changed. There are different ways to change between code and markdown cells. One way is using the drop-down on the Toolbar (which will be \"Code\", initially)\n",
    "\n",
    "<div class=\"alert alert-block alert-info\"> <b>TRY IT!</b> Add a new cell below this one. Write the following code and then run it: <code>print(5 + 5)</code>. Then, try to change its type to a markdown cell and run it. Finally, change it back to a code cell and run it to verify that it works.</div>"
   ]
  },
  {
   "cell_type": "markdown",
   "id": "13a5d1d9",
   "metadata": {
    "id": "13a5d1d9"
   },
   "source": [
    "## 1.3. Running Cells\n",
    "\n",
    "You can run individual cells, a selection of cells, or all cells, and there are multiple ways to do so. We just saw above one way of running cells using <kbd>Shift</kbd>+<kbd>Enter</kbd>. To run individual cells, you can click on the cell and then:\n",
    "* From the Toolbar, click the Run icon `▶ Run`\n",
    "* From the keyboard, press <kbd>Shift</kbd>+<kbd>Enter</kbd>. This shortcut will run the selected cell and *go to the next cell or add a new code cell below if this is the last cell*.\n",
    "* From the keyboard, press <kbd>Ctrl</kbd>+<kbd>Enter</kbd> (<kbd>Cmd</kbd>+<kbd>Enter</kbd> for macOS). This shortcut will run the selected cell *without going to the next cell*.\n",
    "* From the Menu bar, click **Run**, then **Run Selected Cell** (there are other run options in the Run menu)\n",
    "\n",
    "You can run multiple cells from the Menu bar. Click **Run** from the Menu bar. You will see several options for running multiple cells:\n",
    "* **Run All Cells**: this will run **all cells** in the notebook\n",
    "* **Run All Above Selected Cell**: this will run **all cells above (but not including)** the selected cell\n",
    "* **Run All Selected Cell and All Below**: this will run **the selected cell and all cells below it**"
   ]
  },
  {
   "cell_type": "markdown",
   "id": "b8473324",
   "metadata": {
    "id": "82760ad8",
    "jp-MarkdownHeadingCollapsed": true
   },
   "source": [
    "## 1.4. Keyboard Shortcuts\n",
    "\n",
    "All actions in the notebook can be performed with the mouse, but keyboard shortcuts are also available for the most common ones. The essential shortcuts to remember are the following:\n",
    "* <kbd>Shift</kbd>+<kbd>Enter</kbd>: Run the current cell\n",
    "* <kbd>A</kbd>: Insert a new cell above\n",
    "* <kbd>B</kbd>: Insert a new cell below\n",
    "* <kbd>X</kbd>: Cut the cell\n",
    "* <kbd>C</kbd>: Copy the cell\n",
    "* <kbd>V</kbd>: Paste the copied cell\n",
    "* <kbd>Y</kbd>: Change a cell to a code cell\n",
    "* <kbd>M</kbd>: Change a cell to a markdown cell\n",
    "\n",
    "<div class=\"alert alert-block alert-info\"> <b>TRY IT!</b> Use keyboard shortcuts to add a new cell <strong>below</strong> the current cell. Then, <strong>cut</strong> the added empty cell.</div>"
   ]
  },
  {
   "cell_type": "markdown",
   "id": "f0ea6866",
   "metadata": {
    "id": "f0ea6866"
   },
   "source": [
    "# 2. Programming in Python <a id=\"s2\"></a>\n",
    "\n",
    "Jupyter notebook is an interactive environment for writing and running code. The notebook is capable of running code in a wide range of languages. However, each notebook is associated with a single kernel. This notebook is associated with the IPython kernel, therefore runs Python code.\n",
    "\n",
    "In this course, we will predominantly use [Python](https://www.python.org/) – a relatively recent language which is easy to learn and provides a platform to advanced programming. We will later introduce [MATLAB](https://www.mathworks.com/products/matlab.html), which is a programming and numeric computing platform prevalently used by engineers. There are many other languages which we will outline later in the course.\n",
    "\n",
    "Python is a language, and like natural human languages, it has rules.  It differs from natural language in two important ways:\n",
    "1. The rules are *simple*. You can learn most of them in a few weeks and gain reasonable proficiency with the language in a semester.\n",
    "2. The rules are *rigid*. If you're proficient in a natural language, you can understand a non-proficient speaker, even if they make small mistakes. A computer running Python code is not smart enough to do that. Mistakes, no mater how small, will produce an error message.\n",
    "\n",
    "To run Python, we need to use **code cells**.\n",
    "\n",
    "## 2.1. Errors\n",
    "\n",
    "We need to learn the Python language so we can communicate our instructions to Python. In the beginning we will make lots of mistakes and speak gibberish just like small children who are learning a new language. When you make a mistake, the computer does not like it and will refuse to run. It will tell you something like `SyntaxError`. It seems like Python is cruel and uncaring. You must remember that you are intelligent and can learn. However, while computers are simple and very fast, they are stupid. So it is easier for you to learn Python.\n",
    "\n",
    "<div class=\"alert alert-block alert-success\"> <b>TIP!</b> During the first few weeks of your programming career, you will probably spend a lot of time tracking down errors. As you gain experience, though, you will make fewer errors and find them faster. Of course, if you're frustrated, ask a neighbor, a staff member, or the Internet for help.</div>\n",
    "\n",
    "<div class=\"alert alert-block alert-info\"> <b>TRY IT!</b> Add a new code cell below. Then, type the following statement: <code>print(\"This line is missing something.\"</code>. Run it and see what happens.</div>"
   ]
  },
  {
   "cell_type": "markdown",
   "id": "39a3ab3a",
   "metadata": {
    "id": "39a3ab3a"
   },
   "source": [
    "You should see something like this (minus the annotations):\n",
    "\n",
    "<br>\n",
    "\n",
    "<center>\n",
    "<figure>\n",
    "  <img src=\"https://docs.google.com/drawings/d/1K9Y38hUu3hGzqbArbGdlN4Uun12Thrcq2oP8WzhNiAA/pub?w=1440&h=1080\" style=\"width:75%\">\n",
    "    <figcaption style=\"text-align:center\"><strong>Python error example</strong></figcaption>   \n",
    "</figure>\n",
    "</center>\n",
    "\n",
    "The first few lines show the location where the error is detected. The first line attempts to tell you the line number where Python thinks the error is. This cell only has one line, so the error is in line 1. This is followed by the code and  a carat `^` that points to where Python thinks something went wrong (in this case, the end of the line). However, sometimes, the place causing the error may be far away from the pointed out line and/or location.\n",
    "\n",
    "So the message is saying Python expected you to write something more at the end (in this case, a right parenthesis `)`).\n",
    "\n",
    "<div class=\"alert alert-block alert-success\"> <b>TIP!</b> You can show line number by clicking on <b>View</b> in the Menu bar and then selecting <b>Show Line Numbers</b>.</div>\n",
    "\n",
    "The last line attempts to tell you what went wrong. The first word of the the last line tells you the error type. In this case, `SyntaxError` tells you that you have created an illegal structure (against the rules of the language). The error type is followed by an explanation of the error, in this case `incomplete input`.\n",
    "\n",
    "There's a lot of terminology in programming languages, but you don't need to know it all in order to program effectively.\n",
    "\n",
    "<div class=\"alert alert-block alert-success\"> <b>TIP!</b> Errors are okay; even experienced programmers make errors. When you make an error, try to find the source of the problem, fix it, and move on.</div>\n",
    "\n",
    "<div class=\"alert alert-block alert-info\"> <b>TRY IT!</b> Add a cell below and copy the statement from above and fix it by adding a right parenthesis at the end. Then, run the cell to see the intended message instead of an error. Once you fix it, change the sentence between quotes to \"This line is not missing anything.\"</div>"
   ]
  },
  {
   "cell_type": "markdown",
   "id": "4c67e9ff",
   "metadata": {
    "id": "4c67e9ff"
   },
   "source": [
    "## 2.2. Comments\n",
    "\n",
    "As programs get bigger and more complicated, they get more difficult to read. In these cases, it might be difficult to look at a piece of code and figure out what it is doing, or why. For this reason, it is sometimes helpful to add notes to your programs to explain what the program is doing.\n",
    "\n",
    "A **comment** in a computer program is text that is intended only for the human reader – it is completely ignored by the interpreter. In Python, a hash `#` denotes the start of a comment. Python will ignore everything that follows the hash until the end of the line. Comments are extremely useful and you should use them to communicate something about the code to you, the human reader.\n",
    "\n",
    "<br>\n",
    "<center>\n",
    "<figure>\n",
    "  <img src=\"http://imgs.xkcd.com/comics/future_self.png\" style=\"width:30%\">\n",
    "    <figcaption style=\"text-align:center\"><strong>Comments comic:</strong> <a href=\"https://www.explainxkcd.com/wiki/index.php/1421:_Future_Self\">XKCD</a></figcaption>  \n",
    "</figure>\n",
    "</center>\n",
    "\n",
    "As mentioned above, a hash `#` in Python denotes the start of a comment. Let's look at an example.\n",
    "\n",
    "<div class=\"alert alert-block alert-success\"> <b>TIP!</b> You can directly add or remove an existing comment using the shortcut <kbd>Ctrl</kbd>+<kbd>/</kbd>.</div>"
   ]
  },
  {
   "cell_type": "code",
   "execution_count": null,
   "id": "e20279ef",
   "metadata": {
    "id": "e20279ef"
   },
   "outputs": [],
   "source": [
    "# This is a comment\n",
    "\n",
    "print(\"Hello!\")         # This is also a comment: This line tells Python to print \"Hello!\". Everything after # is ignored."
   ]
  },
  {
   "cell_type": "markdown",
   "id": "532d7945",
   "metadata": {
    "id": "532d7945"
   },
   "source": [
    "You'll also notice that we've left a blank line in the program. Blank lines are also ignored by Python. Although they are ignored, comments and blank lines can make your programs much easier for humans to understand. It is not necessary to add a comment to each line of code. Yet, it is highly recommended you use them liberally, when appropriate! So use comments to describe what the program does and how it works. Your future self will thank you!\n",
    "\n",
    "Another common use of comments is **commenting out** a part of your program which you want the program to ignore temporarily.\n",
    "\n",
    "<div class=\"alert alert-block alert-info\"> <b>TRY IT!</b> Run the code cell below and check the output. Then, comment out the expression <code>print(\"Hello!\")</code> by adding <code>#</code> at the beginning of the line. Run the cell again and check the new output.</div>"
   ]
  },
  {
   "cell_type": "code",
   "execution_count": null,
   "id": "12f05ac9",
   "metadata": {
    "id": "12f05ac9"
   },
   "outputs": [],
   "source": [
    "# This is a comment\n",
    "\n",
    "print(\"Hello!\")         # This is also a comment: This line tells Python to print \"Hello!\". Everything after # is ignored.\n",
    "\n",
    "print(\"Hello, World!\")  # Isn't this easy!"
   ]
  },
  {
   "cell_type": "markdown",
   "id": "ae88614c",
   "metadata": {
    "id": "ae88614c"
   },
   "source": [
    "# 3. Python Basics <a id=\"s3\"></a>\n",
    "\n",
    "A computer program is a step-by-step set of instructions to tell a computer to do things. Programs are made up of expressions and statements. An *expression* is a piece of code that evaluates to some value and a *statement* is one or more lines of code that make something happen in a program.\n",
    "\n",
    "## 3.1. Primitive Expressions\n",
    "\n",
    "If you type an expression in a code cell, the interpreter evaluates it and displays the result. Primitive expressions only take one step to evaluate. These include numbers, which just evaluate to themselves. So if you type a number, or any variable into the interpreter, its value will automatically be echoed.\n",
    "\n",
    "<div class=\"alert alert-block alert-info\"> <b>TRY IT!</b> Type 5 into the code cell below and run it.</div>"
   ]
  },
  {
   "cell_type": "code",
   "execution_count": null,
   "id": "c132d3e3",
   "metadata": {
    "id": "c132d3e3"
   },
   "outputs": [],
   "source": []
  },
  {
   "cell_type": "markdown",
   "id": "a20418db",
   "metadata": {
    "id": "a20418db"
   },
   "source": [
    "## 3.2. Arithmetic Expressions\n",
    "\n",
    "We can use Python like a calculator. Consider the sum of 5 and 5. Let's evaluate it using Python.\n",
    "\n",
    "<div class=\"alert alert-block alert-info\"> <b>TRY IT!</b> Type <code>5 + 5</code> into the code cell below then run it.</div>"
   ]
  },
  {
   "cell_type": "code",
   "execution_count": null,
   "id": "287348c9",
   "metadata": {
    "id": "287348c9"
   },
   "outputs": [],
   "source": []
  },
  {
   "cell_type": "markdown",
   "id": "75e5e41d",
   "metadata": {
    "id": "75e5e41d"
   },
   "source": [
    "We will learn about using Python as calculator in more detail next week, but let's briefly introduce some concepts.\n",
    "\n",
    "We saw above the `+` operator (addition). There are other operators that are just like you would expect in mathematical notation: `-` operator (subtraction) and the `/` operator (division). There are also operators that differ from typical mathematical notation: the `*` operator (multiplication) and the `**` operator (exponentiation or power).\n",
    "\n",
    "<div class=\"alert alert-block alert-info\"> <b>TRY IT!</b> Compute $3\\times 4$ in Python.</div>"
   ]
  },
  {
   "cell_type": "code",
   "execution_count": null,
   "id": "dd07b1b6",
   "metadata": {
    "id": "dd07b1b6"
   },
   "outputs": [],
   "source": []
  },
  {
   "cell_type": "markdown",
   "id": "c460541d",
   "metadata": {
    "id": "c460541d"
   },
   "source": [
    "<div class=\"alert alert-block alert-info\"> <b>TRY IT!</b> Compute $3^4$ in Python.</div>"
   ]
  },
  {
   "cell_type": "code",
   "execution_count": null,
   "id": "3068414f",
   "metadata": {
    "id": "3068414f"
   },
   "outputs": [],
   "source": []
  },
  {
   "cell_type": "markdown",
   "id": "98b4ed62",
   "metadata": {
    "id": "98b4ed62"
   },
   "source": [
    "## 3.3. Strings\n",
    "\n",
    "A string consists of one or more characters wrapped in either single quotes (`' '`) or double quotes (`\" \"`): `'this is a string'` (you have to start and end with quotes). While you can use either single quotes or double quotes, the start quote and the end quote have to match. You'll learn more about strings in the coming weeks of the course!\n",
    "\n",
    "<div class=\"alert alert-block alert-info\"> <b>TRY IT!</b> Replace <strong>friend</strong> with your name in the code cell below then run it. Try it with single and double quotes.</div>"
   ]
  },
  {
   "cell_type": "code",
   "execution_count": null,
   "id": "e7113da3",
   "metadata": {
    "id": "e7113da3"
   },
   "outputs": [],
   "source": [
    "\"Welcome to Jupyter notebooks, friend.\""
   ]
  },
  {
   "cell_type": "markdown",
   "id": "086f2e89",
   "metadata": {
    "id": "086f2e89"
   },
   "source": [
    "## 3.4. The `print()` Function\n",
    "\n",
    "You saw that Python echoed the expression in the code cell. However, in all the previous examples, we only had one expression in the code cell. What would happen if we had multiple expressions? Would Python echo both of them?\n",
    "\n",
    "<div class=\"alert alert-block alert-info\"> <b>TRY IT!</b> In the code cell below type <code>5 + 5</code>. In the same code cell, but on a new line, type <code>4</code>. Run the cell.</div>"
   ]
  },
  {
   "cell_type": "code",
   "execution_count": null,
   "id": "31822fe8",
   "metadata": {
    "id": "31822fe8"
   },
   "outputs": [],
   "source": []
  },
  {
   "cell_type": "markdown",
   "id": "1209ca80",
   "metadata": {
    "id": "1209ca80"
   },
   "source": [
    "You will see that Python displayed `4`, which is the value of the last expression only. However, the result of `5 + 5` is lost forever. Python won't automatically echo prior lines – it will only echo the **last expression**, if any.\n",
    "\n",
    "A better way to display results, from anywhere in the program (last expression or earlier), is using the `print()` function. It is called a **function** because it takes an input and returns an output, just like the function $f(x)=x^2$, which takes as input $x$ and returns $x^2$. In Python, functions can do much more than evaluate a mathematical expression. For example, the `print()` function take as input some expression and prints it. Little by little, we will learn more about how to control its use, but for now we need to learn just enough about it to use `print()`.\n",
    "\n",
    "The syntax for all functions begins with the name of the function, which in this case is `print`, followed by the input enclosed in parentheses `( )`. The input to a `print()` function can be a string or any other object.\n",
    "\n",
    "In general, you don't want to print everything all the time anyway. Only print values and expressions you actually want to see. But if you feel sorry for `5 + 5`, change the cell above to print its value.\n",
    "\n",
    "<div class=\"alert alert-block alert-info\"> <b>TRY IT!</b> Copy the code cell from above and include each expression inside <code>print()</code>. For example: <code>print(5 + 5)</code>. Then, run the cell.</div>"
   ]
  },
  {
   "cell_type": "code",
   "execution_count": null,
   "id": "4f3e7698",
   "metadata": {
    "id": "4f3e7698"
   },
   "outputs": [],
   "source": []
  },
  {
   "cell_type": "markdown",
   "id": "ea35e92b",
   "metadata": {
    "id": "ea35e92b"
   },
   "source": [
    "Above, you should see that all expressions with `print()` will be displayed, even those in prior lines. We will be using the `print()` function whenever we need to output data from our programs."
   ]
  },
  {
   "cell_type": "markdown",
   "id": "9ee96dba",
   "metadata": {
    "id": "9ee96dba"
   },
   "source": [
    "# 4. Managing Packages <a id=\"s4\"></a>\n",
    "\n",
    "One of the powerful features of Python is the various packages/modules developed by the community. Modules are files that contain Python functions that you can import and use without having to write the entire code yourself. For example, when you want to use some function or algorithm, you might find that it already exits in a module that someone else has coded. So all you need to do is import the module to your code to use its functions. You can even create your own modules to use them in different programs. This section goes over the mechanism of importing modules, which makes extra functionality (maybe someone else's code) accessible to your code.\n",
    "\n",
    "## 4.1. The `import` Statement\n",
    "\n",
    "To use any function from a module in your code, you must first make it accessible. You have to **import it**. You can't use these functions before importing the module that defines them. Some functions are built in, for example, the `print()` function can be used whenever you want, because it is built into Python by default. But most functions you will want to use will need a little more than that.\n",
    "\n",
    "<div class=\"alert alert-block alert-info\"> <b>TRY IT!</b> Try running the next code cell <code>sqrt(4)</code>. You should get an error.</div>"
   ]
  },
  {
   "cell_type": "code",
   "execution_count": null,
   "id": "086d9663",
   "metadata": {
    "id": "086d9663"
   },
   "outputs": [],
   "source": [
    "sqrt(4)"
   ]
  },
  {
   "cell_type": "markdown",
   "id": "25eee1a7",
   "metadata": {
    "id": "25eee1a7"
   },
   "source": [
    "You'll get a `NameError`. Apparently Python doesn't know what `sqrt()` means - `sqrt()` is not defined.\n",
    "\n",
    "<div class=\"alert alert-block alert-info\"> <b>TRY IT!</b> Now copy the two lines below, paste them to the next code cell, and run it.\n",
    "\n",
    "<pre>\n",
    "import math\n",
    "math.sqrt(4)\n",
    "</pre>\n",
    "\n",
    "</div>"
   ]
  },
  {
   "cell_type": "code",
   "execution_count": null,
   "id": "2281e226",
   "metadata": {
    "id": "2281e226"
   },
   "outputs": [],
   "source": []
  },
  {
   "cell_type": "markdown",
   "id": "94077af7",
   "metadata": {
    "id": "94077af7"
   },
   "source": [
    "That worked a whole lot better! First we imported `math`, a module that provides mathematical constants and functions. After importing it, we then can access functions and attributes that are part of the `math` module. For example, one such function is `math.sqrt()` which computes the square root of a value. The way we use these functions (and in general, any function from a module) is `module.function(x)`, where:\n",
    "* `module` is the module's name or its given shortened name; e.g., `math`\n",
    "* `.function` is the function available within that module that you want to use; e.g., `.sqrt`\n",
    "* `(x)` includes inside the parentheses the input(s) that your are trying to evaluate using the function; e.g., `(4)`.\n",
    "\n",
    "So, to use the functionality present in any module, you have to import it into your current program. You need to use the `import` keyword along with the desired module name.\n",
    "\n",
    "Once a module is imported, it stays imported, and you can use it in any code cell. However, if you close Jupyter and re-open it, you will have to re-import the module by running `import module`, where `module` is the module's name."
   ]
  },
  {
   "cell_type": "markdown",
   "id": "9d68cac3",
   "metadata": {
    "id": "9d68cac3"
   },
   "source": [
    "## 4.2. Renaming the Module\n",
    "\n",
    "You can rename the module you are importing, which can be useful in cases when you want to give a more meaningful name to the module or the module name is too large to use repeatedly. You can use the `as` keyword to rename it. Let's look at an example.\n",
    "\n",
    "In Python, NumPy is one of the most used packages for scientific and numerical applications. NumPy is short for \"Numerical Python\". In order to use NumPy and its functions, we need to import it first. A conventional way to import it is to use `np` as a shortened name: `import numpy as np`.\n",
    "\n",
    "<div class=\"alert alert-block alert-info\"> <b>TRY IT!</b> Copy the two lines below, paste them to the next code cell, and run it.\n",
    "\n",
    "<pre>\n",
    "import numpy as np\n",
    "np.sqrt(4)\n",
    "</pre>\n",
    "\n",
    "</div>"
   ]
  },
  {
   "cell_type": "code",
   "execution_count": null,
   "id": "8ba68b8e",
   "metadata": {
    "id": "8ba68b8e"
   },
   "outputs": [],
   "source": []
  },
  {
   "cell_type": "markdown",
   "id": "7e26dbe6",
   "metadata": {
    "id": "7e26dbe6"
   },
   "source": [
    "NumPy also has a function called `sqrt()`, which is similar to that of the `math` module. Notice however, that instead of using `numpy.sqrt(4)`, we used the shortened name `np.sqrt(4)`. This is because when we imported NumPy, we imported it as the shortened name `np`. You saved yourself some typing time by renaming `numpy` as `np`.\n",
    "\n",
    "Note that you can't use `numpy.sqrt()` in this case, as the name `numpy` is not recognized in your program – only `np` is recognized."
   ]
  }
 ],
 "metadata": {
  "colab": {
   "provenance": []
  },
  "kernelspec": {
   "display_name": "Python 3 (ipykernel)",
   "language": "python",
   "name": "python3"
  },
  "language_info": {
   "codemirror_mode": {
    "name": "ipython",
    "version": 3
   },
   "file_extension": ".py",
   "mimetype": "text/x-python",
   "name": "python",
   "nbconvert_exporter": "python",
   "pygments_lexer": "ipython3",
   "version": "3.11.9"
  }
 },
 "nbformat": 4,
 "nbformat_minor": 5
}
