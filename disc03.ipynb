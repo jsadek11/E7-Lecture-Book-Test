{
 "cells": [
  {
   "cell_type": "markdown",
   "id": "f133acb3",
   "metadata": {
    "id": "f133acb3"
   },
   "source": [
    "# E7 Discussion 3: Coding Challenge"
   ]
  },
  {
   "cell_type": "markdown",
   "id": "95b59811",
   "metadata": {
    "id": "95b59811"
   },
   "source": [
    "You are allowed to exchange ideas and work together with your discussion partner. The problems are designed to be challenging so do not feel discouraged if they take some time! The solution will be posted next week."
   ]
  },
  {
   "cell_type": "markdown",
   "id": "f13e4332",
   "metadata": {},
   "source": [
    "## Question 1: Chessboard\n",
    "\n",
    "Consider a 2-D NumPy array `chess_board` representing the state of a chessboard, where each element contains information about a square. An array with random number has already been defined for you.\n",
    "\n",
    "**Using only slicing operations and without redefining the array, modify `chess_board` to assign 0 to the light squares and 1 to the dark squares**.\n",
    "\n",
    "Hints:\n",
    "1. A standard chessboard has 8 x 8 = 64 squares, top-left square is a light square and no adjacent squares have the same color type.\n",
    "2. Information about top-left square is stored in `chess_board[0,0]` and bottom-right square is in `chess_board[7,7]`\n",
    "\n",
    "See below for an example of a standard chess board and the required output array.\n",
    "\n",
    "<center>\n",
    "<div>\n",
    "<img src=\"https://docs.google.com/drawings/d/e/2PACX-1vQuqpYcS7HDr98zVlcw4yguyl_jMVwwSaQjUpjI7SOyFziXlGBKJBxc0UNSxU79My0bA84o3aaHpr4d/pub?w=954&h=371\" width=\"600\"/>\n",
    "</div>\n",
    "</center>"
   ]
  },
  {
   "cell_type": "code",
   "execution_count": null,
   "id": "41b1c7c4",
   "metadata": {},
   "outputs": [],
   "source": [
    "import numpy as np\n",
    "chess_board = np.random.randint(2,9,(8,8))\n",
    "\n",
    "# Solution\n",
    "..."
   ]
  },
  {
   "cell_type": "markdown",
   "id": "92c45882",
   "metadata": {},
   "source": [
    "## Question 2: Name Transformer\n",
    "\n",
    "Write a program that takes a string called `name` containing a person's first and last name, with a single space separating them, and then performs the following operations:\n",
    "\n",
    "1. Display the first name with the first letter only in uppercase.\n",
    "2. Display the last name with the first letter only in uppercase.\n",
    "3. Display the initials in uppercase (first letter from the first name and first letter from the last name).\n",
    "\n",
    "Note that `name` could be all lowercase, uppercase, or a mix of both. Also, assume that the first name is a single word and the last name is also a single word.\n",
    "\n",
    "**Examples:**\n",
    "\n",
    "```\n",
    ">>> name = John Doe\n",
    "John\n",
    "Doe\n",
    "JD\n",
    "\n",
    ">>> john doe\n",
    "John\n",
    "Doe\n",
    "JD\n",
    "\n",
    ">>> jOhN dOE\n",
    "John\n",
    "Doe\n",
    "JD\n",
    "\n",
    ">>> sir CumfErEncE\n",
    "Sir\n",
    "Cumference\n",
    "SC\n",
    "\n",
    ">>> wisteria ravenclaw\n",
    "Wisteria\n",
    "Ravenclaw\n",
    "WR\n",
    "```\n",
    "\n",
    "You may find built-in [string methods](https://docs.python.org/3/library/stdtypes.html#string-methods) helpful."
   ]
  },
  {
   "cell_type": "code",
   "execution_count": null,
   "id": "e231e0f7",
   "metadata": {},
   "outputs": [],
   "source": [
    "# Step 1: Get input from the user\n",
    "name = input(\"Enter the person's name: \")"
   ]
  },
  {
   "cell_type": "code",
   "execution_count": null,
   "id": "8be96dea",
   "metadata": {},
   "outputs": [],
   "source": [
    "# Step 2: Display the first name with the first letter only in uppercase\n",
    "..."
   ]
  },
  {
   "cell_type": "code",
   "execution_count": null,
   "id": "ea4f14be",
   "metadata": {},
   "outputs": [],
   "source": [
    "# Step 3: Display the last name with the first letter only in uppercase\n",
    "..."
   ]
  },
  {
   "cell_type": "code",
   "execution_count": null,
   "id": "807cb4ab",
   "metadata": {},
   "outputs": [],
   "source": [
    "# Step 4: Display the initials in uppercase (first letter from the first name and first letter from the last name)\n",
    "..."
   ]
  }
 ],
 "metadata": {
  "kernelspec": {
   "display_name": "Python 3 (ipykernel)",
   "language": "python",
   "name": "python3"
  },
  "language_info": {
   "codemirror_mode": {
    "name": "ipython",
    "version": 3
   },
   "file_extension": ".py",
   "mimetype": "text/x-python",
   "name": "python",
   "nbconvert_exporter": "python",
   "pygments_lexer": "ipython3",
   "version": "3.11.9"
  }
 },
 "nbformat": 4,
 "nbformat_minor": 5
}
