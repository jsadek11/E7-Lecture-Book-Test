{
 "cells": [
  {
   "cell_type": "markdown",
   "id": "f133acb3",
   "metadata": {
    "id": "f133acb3"
   },
   "source": [
    "# E7 Discussion 6: Coding Challenge"
   ]
  },
  {
   "cell_type": "markdown",
   "id": "95b59811",
   "metadata": {
    "id": "95b59811"
   },
   "source": [
    "You are allowed to exchange ideas and work together with your discussion partner. The problems are designed to be challenging so do not feel discouraged if they take some time! The solution will be posted next week."
   ]
  },
  {
   "cell_type": "markdown",
   "id": "f13e4332",
   "metadata": {},
   "source": [
    "## Question 1: Unsigned Binary to Decimal\n",
    "\n",
    "Write a function <code>binary_to_decimal(binary_str)</code> that takes as input a string representing an <b>unsigned</b> binary number and returns an integer of its decimal equivalent without using built-in conversion functions.\n",
    "\n",
    "**Examples:**\n",
    "\n",
    "```\n",
    ">>> binary_to_decimal(\"10\")\n",
    "2\n",
    "```\n",
    "\n",
    "\n",
    "```\n",
    ">>> binary_to_decimal(\"101010\")\n",
    "42\n",
    "```"
   ]
  },
  {
   "cell_type": "code",
   "execution_count": null,
   "id": "d653e043-e8b7-4ae1-b72f-0a7aea2102e3",
   "metadata": {},
   "outputs": [],
   "source": []
  },
  {
   "cell_type": "markdown",
   "id": "f599d2cb-f030-493e-a668-c1e6c67fd117",
   "metadata": {},
   "source": [
    "## Question 2: Decimal to Unsigned Binary\n",
    "\n",
    "Write a function <code>decimal_to_binary(decimal_num)</code> that takes as input an integer representing a number in decimal representation and returns a string of its <b>unsigned</b> binary representation without using built-in conversion functions.\n",
    "\n",
    "**Examples:**\n",
    "\n",
    "```\n",
    ">>> binary_to_decimal(2)\n",
    "'10'\n",
    "```\n",
    "\n",
    "\n",
    "```\n",
    ">>> binary_to_decimal(42)\n",
    "'101010'\n",
    "```"
   ]
  },
  {
   "cell_type": "code",
   "execution_count": null,
   "id": "307ccc22-c355-4a75-8f05-31dac2dd1244",
   "metadata": {},
   "outputs": [],
   "source": []
  }
 ],
 "metadata": {
  "kernelspec": {
   "display_name": "Python 3 (ipykernel)",
   "language": "python",
   "name": "python3"
  },
  "language_info": {
   "codemirror_mode": {
    "name": "ipython",
    "version": 3
   },
   "file_extension": ".py",
   "mimetype": "text/x-python",
   "name": "python",
   "nbconvert_exporter": "python",
   "pygments_lexer": "ipython3",
   "version": "3.11.9"
  }
 },
 "nbformat": 4,
 "nbformat_minor": 5
}
